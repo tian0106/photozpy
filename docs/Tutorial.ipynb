{
 "cells": [
  {
   "cell_type": "code",
   "execution_count": 2,
   "id": "4c776873-38d9-4c31-a0b0-9ba4dbfa419f",
   "metadata": {},
   "outputs": [],
   "source": [
    "%%capture\n",
    "from photozpy import *\n",
    "from ccdproc import ImageFileCollection\n",
    "from pathlib import Path\n",
    "from astropy.time import Time\n",
    "import numpy as np\n",
    "\n",
    "from astropy.nddata import CCDData\n",
    "from astropy.visualization import hist\n",
    "import matplotlib.pyplot as plt\n",
    "from tqdm.notebook import tqdm\n",
    "from astropy.stats import mad_std\n",
    "\n",
    "#from convenience_functions import show_image\n",
    "from astropy.io import fits\n",
    "#plt.style.use('guide.mplstyle')\n",
    "\n",
    "from astropy.io import fits\n",
    "\n",
    "from photozpy import CollectionManager\n",
    "from photozpy import SourceDetection\n",
    "from photozpy import PlateSolving\n",
    "from photozpy import Sources\n",
    "from photozpy import Photometry\n",
    "\n",
    "from photutils.centroids import centroid_quadratic, centroid_com, centroid_sources, centroid_2dg\n",
    "\n",
    "from astropy.coordinates import SkyCoord\n",
    "import astropy.units as u"
   ] 
  },
  {
   "cell_type": "markdown",
   "id": "4f761f6d-95b6-47e8-9e2d-f5f29d4d8391",
   "metadata": {},
   "source": [
    "# Pretreat the fits images\n",
    "- Links the object names with the the name of fits files.\n",
    "- Add necessary headers and header values"
   ]
  },
  {
   "cell_type": "markdown",
   "id": "4cb46150-237b-42ce-8d02-a1eb9bbeb45c",
   "metadata": {},
   "source": [
    "Download the tutorial data from this [link](https://drive.google.com/drive/folders/1zwNlXxlR6BPgA8OvVF8YS5HOREVSonot?usp=sharing)"
   ]
  },
  {
   "cell_type": "code",
   "execution_count": 5,
   "id": "8607eaa5-e89e-4158-ba59-465976836a85",
   "metadata": {},
   "outputs": [],
   "source": [
    "# define the telescope\n",
    "# It handles the telescope names, filters, ccd type, ccd gain and ccd readnoise\n",
    "telescope = Telescope(telescope = \"CT\", mode = \"griz\", ccd = \"Andor\")"
   ]
  },
  {
   "cell_type": "code",
   "execution_count": 4,
   "id": "4c007d62-7e15-4f6c-b00f-8db74040851a",
   "metadata": {},
   "outputs": [],
   "source": [
    "# get the original \n",
    "path = Path(\"/Users/shengyong/conda_envs/photozpy/photozpy/tests/20231230_Examined_has_flats\")\n",
    "image_collection = ImageFileCollection(location = path, glob_include = \"*.fits\")"
   ]
  },
  {
   "cell_type": "code",
   "execution_count": 4,
   "id": "6ab3fc38-e36f-45b0-b088-a4b7602d52aa",
   "metadata": {},
   "outputs": [],
   "source": [
    "# map the fits file name to the object names\n",
    "# this will be handled by Sources module\n",
    "targets = {\"NAME_Vel_G\": \"NAME Vel G\",\n",
    "           \"E1_b\": \"E1 b\"}"
   ]
  },
  {
   "cell_type": "code",
   "execution_count": 6,
   "id": "bcaea121-80d7-4e7e-a997-d9b9ad59e0a7",
   "metadata": {},
   "outputs": [
    {
     "name": "stdout",
     "output_type": "stream",
     "text": [
      "Editing headers by file names......\n"
     ]
    },
    {
     "name": "stderr",
     "output_type": "stream",
     "text": [
      "100%|█████████████████████████████████████████| 216/216 [00:19<00:00, 11.04it/s]\n"
     ]
    },
    {
     "name": "stdout",
     "output_type": "stream",
     "text": [
      "Header edition by file names completed!\n",
      "----------------------------------------\n",
      "\n",
      "Editting filter headers......\n"
     ]
    },
    {
     "name": "stderr",
     "output_type": "stream",
     "text": [
      "156it [00:07, 20.93it/s]\n"
     ]
    },
    {
     "name": "stdout",
     "output_type": "stream",
     "text": [
      "Filter header edition completed!\n",
      "----------------------------------------\n",
      "\n"
     ]
    }
   ],
   "source": [
    "# create a working folder and correct the image header\n",
    "working_folder = \"/Users/shengyong/conda_envs/photozpy/photozpy/tests/20231230\"\n",
    "header_edition = HeaderCorrection(image_collection = image_collection, telescope = telescope, target_dict = targets)\n",
    "\n",
    "header_edition.correct_headers_by_filename(save_location = Path(working_folder))\n",
    "header_edition.correct_filter_headers()"
   ]
  },
  {
   "cell_type": "code",
   "execution_count": 5,
   "id": "3220cfe3-cdec-473a-8720-ed12b629c61a",
   "metadata": {},
   "outputs": [],
   "source": [
    "# set up the working path\n",
    "working_folder = \"/Users/shengyong/conda_envs/photozpy/photozpy/tests/20231230\"\n",
    "path = Path(working_folder)\n",
    "working_image_collection = ImageFileCollection(location = path, glob_include = \"*.fits\")"
   ]
  },
  {
   "cell_type": "markdown",
   "id": "549110c4-6e10-4f71-9ccf-2696e759d6d6",
   "metadata": {},
   "source": [
    "# Calibration Correction, Registration, Plate Solving and Combine"
   ]
  },
  {
   "cell_type": "code",
   "execution_count": 4,
   "id": "f06701b3-3b7b-459d-91ae-461950ca296e",
   "metadata": {},
   "outputs": [],
   "source": [
    "# define calibration objects\n",
    "combine_images = Combine(working_image_collection, telescope)\n",
    "calibrate_images = Reduction(working_image_collection, telescope)\n",
    "registration = Registration(working_image_collection, telescope)\n",
    "sources_detection = SourceDetection(working_image_collection)\n",
    "plate_solving = PlateSolving(working_image_collection)"
   ]
  },
  {
   "cell_type": "markdown",
   "id": "2c93b2a6-61ce-4c38-82be-13b1a8a24842",
   "metadata": {},
   "source": [
    "## Bias Correction"
   ]
  },
  {
   "cell_type": "code",
   "execution_count": 9,
   "id": "8b047e3b-0f05-4192-aa67-57c0dc462b5a",
   "metadata": {
    "collapsed": true,
    "jupyter": {
     "outputs_hidden": true
    },
    "scrolled": true
   },
   "outputs": [
    {
     "name": "stdout",
     "output_type": "stream",
     "text": [
      "Using ['Bias_009.fits', 'Bias_025.fits', 'Bias_002.fits', 'Bias_010.fits', 'Bias_011.fits', 'Bias_004.fits', 'Bias_024.fits', 'Bias_027.fits', 'Bias_017.fits', 'Bias_019.fits', 'Bias_001.fits', 'Bias_026.fits', 'Bias_005.fits', 'Bias_029.fits', 'Bias_008.fits', 'Bias_003.fits', 'Bias_006.fits', 'Bias_013.fits', 'Bias_018.fits', 'Bias_020.fits', 'Bias_007.fits', 'Bias_014.fits', 'Bias_016.fits', 'Bias_021.fits', 'Bias_030.fits', 'Bias_022.fits', 'Bias_028.fits', 'Bias_015.fits', 'Bias_012.fits', 'Bias_023.fits'] to combine the master Bias image!\n",
      "Bias combined!\n",
      "----------------------------------------\n",
      "\n",
      "Apply Master_Bias.fits correction to Flat_SDSS_r_057.fits\n",
      "Apply Master_Bias.fits correction to Dark_019.fits\n",
      "Apply Master_Bias.fits correction to Flat_SDSS_g_009.fits\n",
      "Apply Master_Bias.fits correction to Dark_029.fits\n",
      "Apply Master_Bias.fits correction to Flat_SDSS_g_016.fits\n",
      "Apply Master_Bias.fits correction to Flat_SDSS_g_035.fits\n",
      "Apply Master_Bias.fits correction to Flat_SDSS_z_014.fits\n",
      "Apply Master_Bias.fits correction to Flat_SDSS_g_030.fits\n",
      "Apply Master_Bias.fits correction to Dark_012.fits\n",
      "Apply Master_Bias.fits correction to NAME_Vel_G_SDSS_g_053.fits\n",
      "Apply Master_Bias.fits correction to Flat_SDSS_g_061.fits\n",
      "Apply Master_Bias.fits correction to Dark_005.fits\n",
      "Apply Master_Bias.fits correction to Dark_023.fits\n",
      "Apply Master_Bias.fits correction to NAME_Vel_G_SDSS_i_043.fits\n",
      "Apply Master_Bias.fits correction to Flat_SDSS_r_003.fits\n",
      "Apply Master_Bias.fits correction to Flat_SDSS_r_048.fits\n",
      "Apply Master_Bias.fits correction to Flat_SDSS_z_005.fits\n",
      "Apply Master_Bias.fits correction to Dark_015.fits\n",
      "Apply Master_Bias.fits correction to Flat_SDSS_z_028.fits\n",
      "Apply Master_Bias.fits correction to E1_b_SDSS_z_004.fits\n",
      "Apply Master_Bias.fits correction to NAME_Vel_G_SDSS_i_007.fits\n",
      "Apply Master_Bias.fits correction to NAME_Vel_G_SDSS_z_040.fits\n",
      "Apply Master_Bias.fits correction to Flat_SDSS_r_035.fits\n",
      "Apply Master_Bias.fits correction to NAME_Vel_G_SDSS_i_055.fits\n",
      "Apply Master_Bias.fits correction to NAME_Vel_G_SDSS_r_018.fits\n",
      "Apply Master_Bias.fits correction to Flat_SDSS_i_012.fits\n",
      "Apply Master_Bias.fits correction to Dark_022.fits\n",
      "Apply Master_Bias.fits correction to NAME_Vel_G_SDSS_i_051.fits\n",
      "Apply Master_Bias.fits correction to Dark_030.fits\n",
      "Apply Master_Bias.fits correction to NAME_Vel_G_SDSS_i_059.fits\n",
      "Apply Master_Bias.fits correction to Flat_SDSS_i_044.fits\n",
      "Apply Master_Bias.fits correction to Flat_SDSS_i_019.fits\n",
      "Apply Master_Bias.fits correction to Flat_SDSS_i_003.fits\n",
      "Apply Master_Bias.fits correction to Flat_SDSS_r_062.fits\n",
      "Apply Master_Bias.fits correction to NAME_Vel_G_SDSS_z_008.fits\n",
      "Apply Master_Bias.fits correction to Flat_SDSS_r_031.fits\n",
      "Apply Master_Bias.fits correction to Flat_SDSS_z_026.fits\n",
      "Apply Master_Bias.fits correction to Dark_003.fits\n",
      "Apply Master_Bias.fits correction to Flat_SDSS_z_017.fits\n",
      "Apply Master_Bias.fits correction to NAME_Vel_G_SDSS_z_012.fits\n",
      "Apply Master_Bias.fits correction to NAME_Vel_G_SDSS_z_024.fits\n",
      "Apply Master_Bias.fits correction to NAME_Vel_G_SDSS_z_036.fits\n",
      "Apply Master_Bias.fits correction to NAME_Vel_G_SDSS_i_031.fits\n",
      "Apply Master_Bias.fits correction to NAME_Vel_G_SDSS_i_019.fits\n",
      "Apply Master_Bias.fits correction to Flat_SDSS_i_006.fits\n",
      "Apply Master_Bias.fits correction to Flat_SDSS_g_004.fits\n",
      "Apply Master_Bias.fits correction to E1_b_SDSS_r_006.fits\n",
      "Apply Master_Bias.fits correction to Flat_SDSS_g_056.fits\n",
      "Apply Master_Bias.fits correction to Flat_SDSS_r_046.fits\n",
      "Apply Master_Bias.fits correction to Flat_SDSS_z_012.fits\n",
      "Apply Master_Bias.fits correction to Flat_SDSS_z_027.fits\n",
      "Apply Master_Bias.fits correction to NAME_Vel_G_SDSS_g_029.fits\n",
      "Apply Master_Bias.fits correction to NAME_Vel_G_SDSS_g_041.fits\n",
      "Apply Master_Bias.fits correction to Flat_SDSS_r_037.fits\n",
      "Apply Master_Bias.fits correction to Flat_SDSS_i_039.fits\n",
      "Apply Master_Bias.fits correction to Flat_SDSS_r_058.fits\n",
      "Apply Master_Bias.fits correction to Flat_SDSS_r_038.fits\n",
      "Apply Master_Bias.fits correction to NAME_Vel_G_SDSS_i_003.fits\n",
      "Apply Master_Bias.fits correction to NAME_Vel_G_SDSS_i_011.fits\n",
      "Apply Master_Bias.fits correction to Flat_SDSS_r_051.fits\n",
      "Apply Master_Bias.fits correction to NAME_Vel_G_SDSS_r_030.fits\n",
      "Apply Master_Bias.fits correction to NAME_Vel_G_SDSS_g_049.fits\n",
      "Apply Master_Bias.fits correction to Dark_020.fits\n",
      "Apply Master_Bias.fits correction to E1_b_SDSS_g_005.fits\n",
      "Apply Master_Bias.fits correction to NAME_Vel_G_SDSS_r_010.fits\n",
      "Apply Master_Bias.fits correction to NAME_Vel_G_SDSS_z_044.fits\n",
      "Apply Master_Bias.fits correction to NAME_Vel_G_SDSS_z_028.fits\n",
      "Apply Master_Bias.fits correction to Flat_SDSS_g_040.fits\n",
      "Apply Master_Bias.fits correction to E1_b_SDSS_r_002.fits\n",
      "Apply Master_Bias.fits correction to Flat_SDSS_i_034.fits\n",
      "Apply Master_Bias.fits correction to NAME_Vel_G_SDSS_r_022.fits\n",
      "Apply Master_Bias.fits correction to NAME_Vel_G_SDSS_r_034.fits\n",
      "Apply Master_Bias.fits correction to NAME_Vel_G_SDSS_z_052.fits\n",
      "Apply Master_Bias.fits correction to Dark_018.fits\n",
      "Apply Master_Bias.fits correction to Dark_021.fits\n",
      "Apply Master_Bias.fits correction to Flat_SDSS_z_015.fits\n",
      "Apply Master_Bias.fits correction to Flat_SDSS_z_018.fits\n",
      "Apply Master_Bias.fits correction to E1_b_SDSS_z_008.fits\n",
      "Apply Master_Bias.fits correction to Dark_027.fits\n",
      "Apply Master_Bias.fits correction to Flat_SDSS_r_043.fits\n",
      "Apply Master_Bias.fits correction to Flat_SDSS_i_025.fits\n",
      "Apply Master_Bias.fits correction to Flat_SDSS_z_021.fits\n",
      "Apply Master_Bias.fits correction to Flat_SDSS_g_015.fits\n",
      "Apply Master_Bias.fits correction to Flat_SDSS_i_032.fits\n",
      "Apply Master_Bias.fits correction to Dark_006.fits\n",
      "Apply Master_Bias.fits correction to NAME_Vel_G_SDSS_r_050.fits\n",
      "Apply Master_Bias.fits correction to NAME_Vel_G_SDSS_i_015.fits\n",
      "Apply Master_Bias.fits correction to NAME_Vel_G_SDSS_r_006.fits\n",
      "Apply Master_Bias.fits correction to Flat_SDSS_z_013.fits\n",
      "Apply Master_Bias.fits correction to NAME_Vel_G_SDSS_r_002.fits\n",
      "Apply Master_Bias.fits correction to Flat_SDSS_z_025.fits\n",
      "Apply Master_Bias.fits correction to NAME_Vel_G_SDSS_g_033.fits\n",
      "Apply Master_Bias.fits correction to Flat_SDSS_r_052.fits\n",
      "Apply Master_Bias.fits correction to NAME_Vel_G_SDSS_g_021.fits\n",
      "Apply Master_Bias.fits correction to NAME_Vel_G_SDSS_g_037.fits\n",
      "Apply Master_Bias.fits correction to Flat_SDSS_z_024.fits\n",
      "Apply Master_Bias.fits correction to NAME_Vel_G_SDSS_r_026.fits\n",
      "Apply Master_Bias.fits correction to NAME_Vel_G_SDSS_r_058.fits\n",
      "Apply Master_Bias.fits correction to Flat_SDSS_z_007.fits\n",
      "Apply Master_Bias.fits correction to Dark_010.fits\n",
      "Apply Master_Bias.fits correction to NAME_Vel_G_SDSS_i_027.fits\n",
      "Apply Master_Bias.fits correction to NAME_Vel_G_SDSS_i_039.fits\n",
      "Apply Master_Bias.fits correction to Flat_SDSS_g_021.fits\n",
      "Apply Master_Bias.fits correction to Flat_SDSS_z_029.fits\n",
      "Apply Master_Bias.fits correction to NAME_Vel_G_SDSS_z_032.fits\n",
      "Apply Master_Bias.fits correction to Flat_SDSS_i_018.fits\n",
      "Apply Master_Bias.fits correction to Dark_016.fits\n",
      "Apply Master_Bias.fits correction to Flat_SDSS_i_027.fits\n",
      "Apply Master_Bias.fits correction to Flat_SDSS_i_049.fits\n",
      "Apply Master_Bias.fits correction to Flat_SDSS_g_050.fits\n",
      "Apply Master_Bias.fits correction to Dark_011.fits\n",
      "Apply Master_Bias.fits correction to Dark_013.fits\n",
      "Apply Master_Bias.fits correction to Dark_025.fits\n",
      "Apply Master_Bias.fits correction to Flat_SDSS_g_023.fits\n",
      "Apply Master_Bias.fits correction to Flat_SDSS_r_059.fits\n",
      "Apply Master_Bias.fits correction to Dark_009.fits\n",
      "Apply Master_Bias.fits correction to Flat_SDSS_i_026.fits\n",
      "Apply Master_Bias.fits correction to Flat_SDSS_z_010.fits\n",
      "Apply Master_Bias.fits correction to Flat_SDSS_z_002.fits\n",
      "Apply Master_Bias.fits correction to NAME_Vel_G_SDSS_g_057.fits\n",
      "Apply Master_Bias.fits correction to Dark_008.fits\n",
      "Apply Master_Bias.fits correction to Flat_SDSS_z_009.fits\n",
      "Apply Master_Bias.fits correction to Flat_SDSS_r_042.fits\n",
      "Apply Master_Bias.fits correction to NAME_Vel_G_SDSS_i_035.fits\n",
      "Apply Master_Bias.fits correction to Flat_SDSS_g_045.fits\n",
      "Apply Master_Bias.fits correction to Flat_SDSS_z_006.fits\n",
      "Apply Master_Bias.fits correction to NAME_Vel_G_SDSS_g_025.fits\n",
      "Apply Master_Bias.fits correction to Flat_SDSS_i_054.fits\n",
      "Apply Master_Bias.fits correction to Flat_SDSS_z_003.fits\n",
      "Apply Master_Bias.fits correction to Dark_017.fits\n",
      "Apply Master_Bias.fits correction to E1_b_SDSS_i_003.fits\n",
      "Apply Master_Bias.fits correction to Dark_026.fits\n",
      "Apply Master_Bias.fits correction to Flat_SDSS_i_033.fits\n",
      "Apply Master_Bias.fits correction to Dark_002.fits\n",
      "Apply Master_Bias.fits correction to NAME_Vel_G_SDSS_z_048.fits\n",
      "Apply Master_Bias.fits correction to NAME_Vel_G_SDSS_z_004.fits\n",
      "Apply Master_Bias.fits correction to NAME_Vel_G_SDSS_g_013.fits\n",
      "Apply Master_Bias.fits correction to Flat_SDSS_r_036.fits\n",
      "Apply Master_Bias.fits correction to NAME_Vel_G_SDSS_z_016.fits\n",
      "Apply Master_Bias.fits correction to Dark_007.fits\n",
      "Apply Master_Bias.fits correction to Flat_SDSS_z_016.fits\n",
      "Apply Master_Bias.fits correction to NAME_Vel_G_SDSS_g_009.fits\n",
      "Apply Master_Bias.fits correction to NAME_Vel_G_SDSS_r_038.fits\n",
      "Apply Master_Bias.fits correction to NAME_Vel_G_SDSS_g_005.fits\n",
      "Apply Master_Bias.fits correction to Flat_SDSS_z_022.fits\n",
      "Apply Master_Bias.fits correction to Dark_024.fits\n",
      "Apply Master_Bias.fits correction to NAME_Vel_G_SDSS_z_056.fits\n",
      "Apply Master_Bias.fits correction to Flat_SDSS_z_019.fits\n",
      "Apply Master_Bias.fits correction to Flat_SDSS_i_011.fits\n",
      "Apply Master_Bias.fits correction to Flat_SDSS_g_007.fits\n",
      "Apply Master_Bias.fits correction to Flat_SDSS_z_008.fits\n",
      "Apply Master_Bias.fits correction to Flat_SDSS_z_020.fits\n",
      "Apply Master_Bias.fits correction to Flat_SDSS_g_022.fits\n",
      "Apply Master_Bias.fits correction to Flat_SDSS_r_041.fits\n",
      "Apply Master_Bias.fits correction to Flat_SDSS_g_028.fits\n",
      "Apply Master_Bias.fits correction to Dark_004.fits\n",
      "Apply Master_Bias.fits correction to NAME_Vel_G_SDSS_r_042.fits\n",
      "Apply Master_Bias.fits correction to E1_b_SDSS_i_007.fits\n",
      "Apply Master_Bias.fits correction to Flat_SDSS_i_013.fits\n",
      "Apply Master_Bias.fits correction to NAME_Vel_G_SDSS_i_023.fits\n",
      "Apply Master_Bias.fits correction to Flat_SDSS_z_001.fits\n",
      "Apply Master_Bias.fits correction to NAME_Vel_G_SDSS_z_020.fits\n",
      "Apply Master_Bias.fits correction to Flat_SDSS_g_055.fits\n",
      "Apply Master_Bias.fits correction to Flat_SDSS_g_008.fits\n",
      "Apply Master_Bias.fits correction to Flat_SDSS_r_053.fits\n",
      "Apply Master_Bias.fits correction to Flat_SDSS_i_060.fits\n",
      "Apply Master_Bias.fits correction to Flat_SDSS_z_011.fits\n",
      "Apply Master_Bias.fits correction to Dark_028.fits\n",
      "Apply Master_Bias.fits correction to NAME_Vel_G_SDSS_g_017.fits\n",
      "Apply Master_Bias.fits correction to Flat_SDSS_z_023.fits\n",
      "Apply Master_Bias.fits correction to Flat_SDSS_z_004.fits\n",
      "Apply Master_Bias.fits correction to Flat_SDSS_g_014.fits\n",
      "Apply Master_Bias.fits correction to NAME_Vel_G_SDSS_g_001.fits\n",
      "Apply Master_Bias.fits correction to NAME_Vel_G_SDSS_r_014.fits\n",
      "Apply Master_Bias.fits correction to Flat_SDSS_r_047.fits\n",
      "Apply Master_Bias.fits correction to Flat_SDSS_i_020.fits\n",
      "Apply Master_Bias.fits correction to NAME_Vel_G_SDSS_z_060.fits\n",
      "Apply Master_Bias.fits correction to E1_b_SDSS_g_001.fits\n",
      "Apply Master_Bias.fits correction to Flat_SDSS_z_030.fits\n",
      "Apply Master_Bias.fits correction to NAME_Vel_G_SDSS_g_045.fits\n",
      "Apply Master_Bias.fits correction to Flat_SDSS_g_029.fits\n",
      "Apply Master_Bias.fits correction to NAME_Vel_G_SDSS_r_054.fits\n",
      "Apply Master_Bias.fits correction to Dark_001.fits\n",
      "Apply Master_Bias.fits correction to Dark_014.fits\n",
      "Apply Master_Bias.fits correction to NAME_Vel_G_SDSS_i_047.fits\n",
      "Apply Master_Bias.fits correction to NAME_Vel_G_SDSS_r_046.fits\n",
      "Bias Correction completed!\n",
      "----------------------------------------\n",
      "\n"
     ]
    }
   ],
   "source": [
    "# Combine Bias\n",
    "combine_images.combine_bias_or_dark(image_type = \"Bias\")\n",
    "\n",
    "# Apply Bias correction\n",
    "calibrate_images.apply_bias_correction()"
   ]
  },
  {
   "cell_type": "markdown",
   "id": "d01c6ff6-4127-416a-b9a3-13fe316056bc",
   "metadata": {},
   "source": [
    "## Dark Correction"
   ]
  },
  {
   "cell_type": "code",
   "execution_count": 10,
   "id": "2c60c085-1c1d-49c0-a55a-6701a3e13659",
   "metadata": {
    "collapsed": true,
    "jupyter": {
     "outputs_hidden": true
    },
    "scrolled": true
   },
   "outputs": [
    {
     "name": "stdout",
     "output_type": "stream",
     "text": [
      "Using ['Dark_007.fits', 'Dark_019.fits', 'Dark_029.fits', 'Dark_024.fits', 'Dark_010.fits', 'Dark_012.fits', 'Dark_005.fits', 'Dark_023.fits', 'Dark_004.fits', 'Dark_015.fits', 'Dark_016.fits', 'Dark_011.fits', 'Dark_020.fits', 'Dark_013.fits', 'Dark_025.fits', 'Dark_022.fits', 'Dark_009.fits', 'Dark_030.fits', 'Dark_018.fits', 'Dark_021.fits', 'Dark_028.fits', 'Dark_008.fits', 'Dark_027.fits', 'Dark_003.fits', 'Dark_017.fits', 'Dark_006.fits', 'Dark_026.fits', 'Dark_001.fits', 'Dark_014.fits', 'Dark_002.fits'] to combine the master Dark image!\n",
      "dark combined!\n",
      "----------------------------------------\n",
      "\n",
      "Apply Master_Dark.fits correction to Flat_SDSS_r_057.fits\n",
      "Apply Master_Dark.fits correction to Flat_SDSS_g_009.fits\n",
      "Apply Master_Dark.fits correction to Flat_SDSS_g_016.fits\n",
      "Apply Master_Dark.fits correction to Flat_SDSS_g_035.fits\n",
      "Apply Master_Dark.fits correction to Flat_SDSS_z_014.fits\n",
      "Apply Master_Dark.fits correction to NAME_Vel_G_SDSS_g_053.fits\n",
      "Apply Master_Dark.fits correction to Flat_SDSS_g_061.fits\n",
      "Apply Master_Dark.fits correction to NAME_Vel_G_SDSS_i_043.fits\n",
      "Apply Master_Dark.fits correction to Flat_SDSS_r_003.fits\n",
      "Apply Master_Dark.fits correction to Flat_SDSS_r_048.fits\n",
      "Apply Master_Dark.fits correction to Flat_SDSS_z_005.fits\n",
      "Apply Master_Dark.fits correction to Flat_SDSS_z_028.fits\n",
      "Apply Master_Dark.fits correction to E1_b_SDSS_z_004.fits\n",
      "Apply Master_Dark.fits correction to NAME_Vel_G_SDSS_i_007.fits\n",
      "Apply Master_Dark.fits correction to NAME_Vel_G_SDSS_z_040.fits\n",
      "Apply Master_Dark.fits correction to Flat_SDSS_r_035.fits\n",
      "Apply Master_Dark.fits correction to NAME_Vel_G_SDSS_i_055.fits\n",
      "Apply Master_Dark.fits correction to NAME_Vel_G_SDSS_r_018.fits\n",
      "Apply Master_Dark.fits correction to Flat_SDSS_i_012.fits\n",
      "Apply Master_Dark.fits correction to NAME_Vel_G_SDSS_i_051.fits\n",
      "Apply Master_Dark.fits correction to NAME_Vel_G_SDSS_i_059.fits\n",
      "Apply Master_Dark.fits correction to Flat_SDSS_i_044.fits\n",
      "Apply Master_Dark.fits correction to Flat_SDSS_i_019.fits\n",
      "Apply Master_Dark.fits correction to Flat_SDSS_i_003.fits\n",
      "Apply Master_Dark.fits correction to Flat_SDSS_r_062.fits\n",
      "Apply Master_Dark.fits correction to Flat_SDSS_r_031.fits\n",
      "Apply Master_Dark.fits correction to Flat_SDSS_z_026.fits\n",
      "Apply Master_Dark.fits correction to Flat_SDSS_z_017.fits\n",
      "Apply Master_Dark.fits correction to NAME_Vel_G_SDSS_z_012.fits\n",
      "Apply Master_Dark.fits correction to NAME_Vel_G_SDSS_z_024.fits\n",
      "Apply Master_Dark.fits correction to NAME_Vel_G_SDSS_z_036.fits\n",
      "Apply Master_Dark.fits correction to NAME_Vel_G_SDSS_i_031.fits\n",
      "Apply Master_Dark.fits correction to NAME_Vel_G_SDSS_i_019.fits\n",
      "Apply Master_Dark.fits correction to Flat_SDSS_i_006.fits\n",
      "Apply Master_Dark.fits correction to Flat_SDSS_g_004.fits\n",
      "Apply Master_Dark.fits correction to E1_b_SDSS_r_006.fits\n",
      "Apply Master_Dark.fits correction to Flat_SDSS_g_056.fits\n",
      "Apply Master_Dark.fits correction to Flat_SDSS_r_046.fits\n",
      "Apply Master_Dark.fits correction to Flat_SDSS_z_012.fits\n",
      "Apply Master_Dark.fits correction to Flat_SDSS_z_027.fits\n",
      "Apply Master_Dark.fits correction to NAME_Vel_G_SDSS_g_029.fits\n",
      "Apply Master_Dark.fits correction to NAME_Vel_G_SDSS_g_041.fits\n",
      "Apply Master_Dark.fits correction to Flat_SDSS_r_037.fits\n",
      "Apply Master_Dark.fits correction to Flat_SDSS_i_039.fits\n",
      "Apply Master_Dark.fits correction to Flat_SDSS_r_058.fits\n",
      "Apply Master_Dark.fits correction to Flat_SDSS_r_038.fits\n",
      "Apply Master_Dark.fits correction to NAME_Vel_G_SDSS_i_003.fits\n",
      "Apply Master_Dark.fits correction to NAME_Vel_G_SDSS_i_011.fits\n",
      "Apply Master_Dark.fits correction to Flat_SDSS_r_051.fits\n",
      "Apply Master_Dark.fits correction to NAME_Vel_G_SDSS_r_030.fits\n",
      "Apply Master_Dark.fits correction to NAME_Vel_G_SDSS_g_049.fits\n",
      "Apply Master_Dark.fits correction to E1_b_SDSS_g_005.fits\n",
      "Apply Master_Dark.fits correction to NAME_Vel_G_SDSS_r_010.fits\n",
      "Apply Master_Dark.fits correction to NAME_Vel_G_SDSS_z_044.fits\n",
      "Apply Master_Dark.fits correction to NAME_Vel_G_SDSS_z_028.fits\n",
      "Apply Master_Dark.fits correction to Flat_SDSS_g_040.fits\n",
      "Apply Master_Dark.fits correction to E1_b_SDSS_r_002.fits\n",
      "Apply Master_Dark.fits correction to Flat_SDSS_i_034.fits\n",
      "Apply Master_Dark.fits correction to NAME_Vel_G_SDSS_r_022.fits\n",
      "Apply Master_Dark.fits correction to NAME_Vel_G_SDSS_r_034.fits\n",
      "Apply Master_Dark.fits correction to NAME_Vel_G_SDSS_z_052.fits\n",
      "Apply Master_Dark.fits correction to Flat_SDSS_z_015.fits\n",
      "Apply Master_Dark.fits correction to Flat_SDSS_z_018.fits\n",
      "Apply Master_Dark.fits correction to E1_b_SDSS_z_008.fits\n",
      "Apply Master_Dark.fits correction to Flat_SDSS_r_043.fits\n",
      "Apply Master_Dark.fits correction to Flat_SDSS_i_025.fits\n",
      "Apply Master_Dark.fits correction to Flat_SDSS_z_021.fits\n",
      "Apply Master_Dark.fits correction to Flat_SDSS_g_015.fits\n",
      "Apply Master_Dark.fits correction to Flat_SDSS_i_032.fits\n",
      "Apply Master_Dark.fits correction to NAME_Vel_G_SDSS_r_050.fits\n",
      "Apply Master_Dark.fits correction to NAME_Vel_G_SDSS_i_015.fits\n",
      "Apply Master_Dark.fits correction to NAME_Vel_G_SDSS_r_006.fits\n",
      "Apply Master_Dark.fits correction to Flat_SDSS_z_013.fits\n",
      "Apply Master_Dark.fits correction to NAME_Vel_G_SDSS_r_002.fits\n",
      "Apply Master_Dark.fits correction to Flat_SDSS_z_025.fits\n",
      "Apply Master_Dark.fits correction to NAME_Vel_G_SDSS_g_033.fits\n",
      "Apply Master_Dark.fits correction to Flat_SDSS_r_052.fits\n",
      "Apply Master_Dark.fits correction to NAME_Vel_G_SDSS_g_021.fits\n",
      "Apply Master_Dark.fits correction to NAME_Vel_G_SDSS_g_037.fits\n",
      "Apply Master_Dark.fits correction to Flat_SDSS_z_024.fits\n",
      "Apply Master_Dark.fits correction to NAME_Vel_G_SDSS_r_026.fits\n",
      "Apply Master_Dark.fits correction to NAME_Vel_G_SDSS_r_058.fits\n",
      "Apply Master_Dark.fits correction to Flat_SDSS_z_007.fits\n",
      "Apply Master_Dark.fits correction to NAME_Vel_G_SDSS_i_027.fits\n",
      "Apply Master_Dark.fits correction to NAME_Vel_G_SDSS_i_039.fits\n",
      "Apply Master_Dark.fits correction to Flat_SDSS_g_021.fits\n",
      "Apply Master_Dark.fits correction to Flat_SDSS_z_029.fits\n",
      "Apply Master_Dark.fits correction to NAME_Vel_G_SDSS_z_032.fits\n",
      "Apply Master_Dark.fits correction to Flat_SDSS_i_018.fits\n",
      "Apply Master_Dark.fits correction to Flat_SDSS_i_027.fits\n",
      "Apply Master_Dark.fits correction to Flat_SDSS_i_049.fits\n",
      "Apply Master_Dark.fits correction to Flat_SDSS_g_050.fits\n",
      "Apply Master_Dark.fits correction to Flat_SDSS_g_023.fits\n",
      "Apply Master_Dark.fits correction to Flat_SDSS_r_059.fits\n",
      "Apply Master_Dark.fits correction to Flat_SDSS_i_026.fits\n",
      "Apply Master_Dark.fits correction to Flat_SDSS_z_010.fits\n",
      "Apply Master_Dark.fits correction to Flat_SDSS_z_002.fits\n",
      "Apply Master_Dark.fits correction to NAME_Vel_G_SDSS_g_057.fits\n",
      "Apply Master_Dark.fits correction to Flat_SDSS_z_009.fits\n",
      "Apply Master_Dark.fits correction to Flat_SDSS_r_042.fits\n",
      "Apply Master_Dark.fits correction to NAME_Vel_G_SDSS_i_035.fits\n",
      "Apply Master_Dark.fits correction to Flat_SDSS_g_045.fits\n",
      "Apply Master_Dark.fits correction to Flat_SDSS_z_006.fits\n",
      "Apply Master_Dark.fits correction to NAME_Vel_G_SDSS_g_025.fits\n",
      "Apply Master_Dark.fits correction to Flat_SDSS_i_054.fits\n",
      "Apply Master_Dark.fits correction to Flat_SDSS_z_003.fits\n",
      "Apply Master_Dark.fits correction to NAME_Vel_G_SDSS_r_046.fits\n",
      "Apply Master_Dark.fits correction to E1_b_SDSS_i_003.fits\n",
      "Apply Master_Dark.fits correction to Flat_SDSS_i_033.fits\n",
      "Apply Master_Dark.fits correction to NAME_Vel_G_SDSS_z_048.fits\n",
      "Apply Master_Dark.fits correction to NAME_Vel_G_SDSS_z_004.fits\n",
      "Apply Master_Dark.fits correction to NAME_Vel_G_SDSS_g_013.fits\n",
      "Apply Master_Dark.fits correction to Flat_SDSS_r_036.fits\n",
      "Apply Master_Dark.fits correction to NAME_Vel_G_SDSS_z_016.fits\n",
      "Apply Master_Dark.fits correction to Flat_SDSS_z_016.fits\n",
      "Apply Master_Dark.fits correction to NAME_Vel_G_SDSS_g_009.fits\n",
      "Apply Master_Dark.fits correction to NAME_Vel_G_SDSS_r_038.fits\n",
      "Apply Master_Dark.fits correction to NAME_Vel_G_SDSS_g_005.fits\n",
      "Apply Master_Dark.fits correction to Flat_SDSS_z_022.fits\n",
      "Apply Master_Dark.fits correction to NAME_Vel_G_SDSS_z_056.fits\n",
      "Apply Master_Dark.fits correction to Flat_SDSS_z_019.fits\n",
      "Apply Master_Dark.fits correction to Flat_SDSS_i_011.fits\n",
      "Apply Master_Dark.fits correction to Flat_SDSS_g_007.fits\n",
      "Apply Master_Dark.fits correction to Flat_SDSS_z_008.fits\n",
      "Apply Master_Dark.fits correction to Flat_SDSS_z_020.fits\n",
      "Apply Master_Dark.fits correction to Flat_SDSS_g_022.fits\n",
      "Apply Master_Dark.fits correction to Flat_SDSS_r_041.fits\n",
      "Apply Master_Dark.fits correction to Flat_SDSS_g_028.fits\n",
      "Apply Master_Dark.fits correction to NAME_Vel_G_SDSS_r_042.fits\n",
      "Apply Master_Dark.fits correction to E1_b_SDSS_i_007.fits\n",
      "Apply Master_Dark.fits correction to Flat_SDSS_i_013.fits\n",
      "Apply Master_Dark.fits correction to NAME_Vel_G_SDSS_i_023.fits\n",
      "Apply Master_Dark.fits correction to Flat_SDSS_z_001.fits\n",
      "Apply Master_Dark.fits correction to NAME_Vel_G_SDSS_z_020.fits\n",
      "Apply Master_Dark.fits correction to Flat_SDSS_g_055.fits\n",
      "Apply Master_Dark.fits correction to Flat_SDSS_g_008.fits\n",
      "Apply Master_Dark.fits correction to Flat_SDSS_r_053.fits\n",
      "Apply Master_Dark.fits correction to Flat_SDSS_i_060.fits\n",
      "Apply Master_Dark.fits correction to Flat_SDSS_z_011.fits\n",
      "Apply Master_Dark.fits correction to NAME_Vel_G_SDSS_g_017.fits\n",
      "Apply Master_Dark.fits correction to Flat_SDSS_z_023.fits\n",
      "Apply Master_Dark.fits correction to Flat_SDSS_z_004.fits\n",
      "Apply Master_Dark.fits correction to Flat_SDSS_g_014.fits\n",
      "Apply Master_Dark.fits correction to NAME_Vel_G_SDSS_g_001.fits\n",
      "Apply Master_Dark.fits correction to NAME_Vel_G_SDSS_r_014.fits\n",
      "Apply Master_Dark.fits correction to Flat_SDSS_r_047.fits\n",
      "Apply Master_Dark.fits correction to Flat_SDSS_i_020.fits\n",
      "Apply Master_Dark.fits correction to NAME_Vel_G_SDSS_z_060.fits\n",
      "Apply Master_Dark.fits correction to E1_b_SDSS_g_001.fits\n",
      "Apply Master_Dark.fits correction to Flat_SDSS_z_030.fits\n",
      "Apply Master_Dark.fits correction to NAME_Vel_G_SDSS_g_045.fits\n",
      "Apply Master_Dark.fits correction to Flat_SDSS_g_029.fits\n",
      "Apply Master_Dark.fits correction to NAME_Vel_G_SDSS_r_054.fits\n",
      "Apply Master_Dark.fits correction to Flat_SDSS_g_030.fits\n",
      "Apply Master_Dark.fits correction to NAME_Vel_G_SDSS_i_047.fits\n",
      "Apply Master_Dark.fits correction to NAME_Vel_G_SDSS_z_008.fits\n"
     ]
    }
   ],
   "source": [
    "# Combine Dark\n",
    "combine_images.combine_bias_or_dark(image_type = \"dark\")\n",
    "\n",
    "# Apply Dark correction\n",
    "calibrate_images.apply_dark_correction()"
   ]
  },
  {
   "cell_type": "markdown",
   "id": "ba3653c9-0906-44e5-97fe-99f10e940523",
   "metadata": {},
   "source": [
    "## Flat Correction"
   ]
  },
  {
   "cell_type": "code",
   "execution_count": 11,
   "id": "7d8796b1-b681-48ee-aa81-546069f2e19a",
   "metadata": {
    "collapsed": true,
    "jupyter": {
     "outputs_hidden": true
    }
   },
   "outputs": [
    {
     "name": "stdout",
     "output_type": "stream",
     "text": [
      "Using ['Flat_SDSS_g_009.fits', 'Flat_SDSS_g_035.fits', 'Flat_SDSS_g_016.fits', 'Flat_SDSS_g_004.fits', 'Flat_SDSS_g_056.fits', 'Flat_SDSS_g_007.fits', 'Flat_SDSS_g_021.fits', 'Flat_SDSS_g_022.fits', 'Flat_SDSS_g_028.fits', 'Flat_SDSS_g_061.fits', 'Flat_SDSS_g_050.fits', 'Flat_SDSS_g_040.fits', 'Flat_SDSS_g_055.fits', 'Flat_SDSS_g_008.fits', 'Flat_SDSS_g_023.fits', 'Flat_SDSS_g_014.fits', 'Flat_SDSS_g_045.fits', 'Flat_SDSS_g_015.fits', 'Flat_SDSS_g_029.fits', 'Flat_SDSS_g_030.fits'] to combine the master Flat image in SDSS_g' filter!\n",
      "Flat in SDSS_g' filter combined!\n",
      "----------------------------------------------------------\n",
      "\n",
      "Using ['Flat_SDSS_r_057.fits', 'Flat_SDSS_r_052.fits', 'Flat_SDSS_r_046.fits', 'Flat_SDSS_r_037.fits', 'Flat_SDSS_r_041.fits', 'Flat_SDSS_r_058.fits', 'Flat_SDSS_r_038.fits', 'Flat_SDSS_r_003.fits', 'Flat_SDSS_r_048.fits', 'Flat_SDSS_r_051.fits', 'Flat_SDSS_r_035.fits', 'Flat_SDSS_r_053.fits', 'Flat_SDSS_r_059.fits', 'Flat_SDSS_r_062.fits', 'Flat_SDSS_r_047.fits', 'Flat_SDSS_r_042.fits', 'Flat_SDSS_r_043.fits', 'Flat_SDSS_r_031.fits', 'Flat_SDSS_r_036.fits'] to combine the master Flat image in SDSS_r' filter!\n",
      "Flat in SDSS_r' filter combined!\n",
      "----------------------------------------------------------\n",
      "\n",
      "Using ['Flat_SDSS_i_006.fits', 'Flat_SDSS_i_011.fits', 'Flat_SDSS_i_039.fits', 'Flat_SDSS_i_018.fits', 'Flat_SDSS_i_049.fits', 'Flat_SDSS_i_013.fits', 'Flat_SDSS_i_012.fits', 'Flat_SDSS_i_060.fits', 'Flat_SDSS_i_034.fits', 'Flat_SDSS_i_026.fits', 'Flat_SDSS_i_044.fits', 'Flat_SDSS_i_019.fits', 'Flat_SDSS_i_003.fits', 'Flat_SDSS_i_025.fits', 'Flat_SDSS_i_020.fits', 'Flat_SDSS_i_054.fits', 'Flat_SDSS_i_032.fits', 'Flat_SDSS_i_033.fits', 'Flat_SDSS_i_027.fits'] to combine the master Flat image in SDSS_i' filter!\n",
      "Flat in SDSS_i' filter combined!\n",
      "----------------------------------------------------------\n",
      "\n",
      "Using ['Flat_SDSS_z_016.fits', 'Flat_SDSS_z_024.fits', 'Flat_SDSS_z_022.fits', 'Flat_SDSS_z_014.fits', 'Flat_SDSS_z_012.fits', 'Flat_SDSS_z_007.fits', 'Flat_SDSS_z_019.fits', 'Flat_SDSS_z_027.fits', 'Flat_SDSS_z_008.fits', 'Flat_SDSS_z_020.fits', 'Flat_SDSS_z_029.fits', 'Flat_SDSS_z_005.fits', 'Flat_SDSS_z_028.fits', 'Flat_SDSS_z_001.fits', 'Flat_SDSS_z_011.fits', 'Flat_SDSS_z_015.fits', 'Flat_SDSS_z_010.fits', 'Flat_SDSS_z_023.fits', 'Flat_SDSS_z_002.fits', 'Flat_SDSS_z_004.fits', 'Flat_SDSS_z_018.fits', 'Flat_SDSS_z_009.fits', 'Flat_SDSS_z_021.fits', 'Flat_SDSS_z_026.fits', 'Flat_SDSS_z_006.fits', 'Flat_SDSS_z_003.fits', 'Flat_SDSS_z_030.fits', 'Flat_SDSS_z_017.fits', 'Flat_SDSS_z_013.fits', 'Flat_SDSS_z_025.fits'] to combine the master Flat image in SDSS_z' filter!\n",
      "Flat in SDSS_z' filter combined!\n",
      "----------------------------------------------------------\n",
      "\n",
      "Using Master_Flat_SDSS_g'.fits correcting NAME_Vel_G_SDSS_g_041.fits\n",
      "Using Master_Flat_SDSS_g'.fits correcting NAME_Vel_G_SDSS_g_033.fits\n",
      "Using Master_Flat_SDSS_g'.fits correcting NAME_Vel_G_SDSS_g_009.fits\n",
      "Using Master_Flat_SDSS_g'.fits correcting NAME_Vel_G_SDSS_g_021.fits\n",
      "Using Master_Flat_SDSS_g'.fits correcting NAME_Vel_G_SDSS_g_037.fits\n",
      "Using Master_Flat_SDSS_g'.fits correcting NAME_Vel_G_SDSS_g_005.fits\n",
      "Using Master_Flat_SDSS_g'.fits correcting NAME_Vel_G_SDSS_g_025.fits\n",
      "Using Master_Flat_SDSS_g'.fits correcting NAME_Vel_G_SDSS_g_029.fits\n",
      "Using Master_Flat_SDSS_g'.fits correcting E1_b_SDSS_g_001.fits\n",
      "Using Master_Flat_SDSS_g'.fits correcting NAME_Vel_G_SDSS_g_045.fits\n",
      "Using Master_Flat_SDSS_g'.fits correcting NAME_Vel_G_SDSS_g_017.fits\n",
      "Using Master_Flat_SDSS_g'.fits correcting NAME_Vel_G_SDSS_g_049.fits\n",
      "Using Master_Flat_SDSS_g'.fits correcting NAME_Vel_G_SDSS_g_057.fits\n",
      "Using Master_Flat_SDSS_g'.fits correcting NAME_Vel_G_SDSS_g_001.fits\n",
      "Using Master_Flat_SDSS_g'.fits correcting NAME_Vel_G_SDSS_g_013.fits\n",
      "Using Master_Flat_SDSS_g'.fits correcting NAME_Vel_G_SDSS_g_053.fits\n",
      "Using Master_Flat_SDSS_g'.fits correcting E1_b_SDSS_g_005.fits\n",
      "Using Master_Flat_SDSS_r'.fits correcting NAME_Vel_G_SDSS_r_018.fits\n",
      "Using Master_Flat_SDSS_r'.fits correcting NAME_Vel_G_SDSS_r_038.fits\n",
      "Using Master_Flat_SDSS_r'.fits correcting NAME_Vel_G_SDSS_r_042.fits\n",
      "Using Master_Flat_SDSS_r'.fits correcting E1_b_SDSS_r_002.fits\n",
      "Using Master_Flat_SDSS_r'.fits correcting NAME_Vel_G_SDSS_r_026.fits\n",
      "Using Master_Flat_SDSS_r'.fits correcting NAME_Vel_G_SDSS_r_022.fits\n",
      "Using Master_Flat_SDSS_r'.fits correcting NAME_Vel_G_SDSS_r_034.fits\n",
      "Using Master_Flat_SDSS_r'.fits correcting NAME_Vel_G_SDSS_r_030.fits\n",
      "Using Master_Flat_SDSS_r'.fits correcting NAME_Vel_G_SDSS_r_058.fits\n",
      "Using Master_Flat_SDSS_r'.fits correcting NAME_Vel_G_SDSS_r_046.fits\n",
      "Using Master_Flat_SDSS_r'.fits correcting E1_b_SDSS_r_006.fits\n",
      "Using Master_Flat_SDSS_r'.fits correcting NAME_Vel_G_SDSS_r_050.fits\n",
      "Using Master_Flat_SDSS_r'.fits correcting NAME_Vel_G_SDSS_r_054.fits\n",
      "Using Master_Flat_SDSS_r'.fits correcting NAME_Vel_G_SDSS_r_006.fits\n",
      "Using Master_Flat_SDSS_r'.fits correcting NAME_Vel_G_SDSS_r_014.fits\n",
      "Using Master_Flat_SDSS_r'.fits correcting NAME_Vel_G_SDSS_r_002.fits\n",
      "Using Master_Flat_SDSS_r'.fits correcting NAME_Vel_G_SDSS_r_010.fits\n",
      "Using Master_Flat_SDSS_i'.fits correcting NAME_Vel_G_SDSS_i_003.fits\n",
      "Using Master_Flat_SDSS_i'.fits correcting NAME_Vel_G_SDSS_i_043.fits\n",
      "Using Master_Flat_SDSS_i'.fits correcting NAME_Vel_G_SDSS_i_035.fits\n",
      "Using Master_Flat_SDSS_i'.fits correcting NAME_Vel_G_SDSS_i_055.fits\n",
      "Using Master_Flat_SDSS_i'.fits correcting NAME_Vel_G_SDSS_i_011.fits\n",
      "Using Master_Flat_SDSS_i'.fits correcting NAME_Vel_G_SDSS_i_051.fits\n",
      "Using Master_Flat_SDSS_i'.fits correcting NAME_Vel_G_SDSS_i_031.fits\n",
      "Using Master_Flat_SDSS_i'.fits correcting NAME_Vel_G_SDSS_i_019.fits\n",
      "Using Master_Flat_SDSS_i'.fits correcting E1_b_SDSS_i_007.fits\n",
      "Using Master_Flat_SDSS_i'.fits correcting E1_b_SDSS_i_003.fits\n",
      "Using Master_Flat_SDSS_i'.fits correcting NAME_Vel_G_SDSS_i_023.fits\n",
      "Using Master_Flat_SDSS_i'.fits correcting NAME_Vel_G_SDSS_i_059.fits\n",
      "Using Master_Flat_SDSS_i'.fits correcting NAME_Vel_G_SDSS_i_015.fits\n",
      "Using Master_Flat_SDSS_i'.fits correcting NAME_Vel_G_SDSS_i_047.fits\n",
      "Using Master_Flat_SDSS_i'.fits correcting NAME_Vel_G_SDSS_i_007.fits\n",
      "Using Master_Flat_SDSS_i'.fits correcting NAME_Vel_G_SDSS_i_027.fits\n",
      "Using Master_Flat_SDSS_i'.fits correcting NAME_Vel_G_SDSS_i_039.fits\n",
      "Using Master_Flat_SDSS_z'.fits correcting NAME_Vel_G_SDSS_z_016.fits\n",
      "Using Master_Flat_SDSS_z'.fits correcting NAME_Vel_G_SDSS_z_028.fits\n",
      "Using Master_Flat_SDSS_z'.fits correcting NAME_Vel_G_SDSS_z_032.fits\n",
      "Using Master_Flat_SDSS_z'.fits correcting NAME_Vel_G_SDSS_z_060.fits\n",
      "Using Master_Flat_SDSS_z'.fits correcting NAME_Vel_G_SDSS_z_036.fits\n",
      "Using Master_Flat_SDSS_z'.fits correcting NAME_Vel_G_SDSS_z_052.fits\n",
      "Using Master_Flat_SDSS_z'.fits correcting E1_b_SDSS_z_004.fits\n",
      "Using Master_Flat_SDSS_z'.fits correcting NAME_Vel_G_SDSS_z_020.fits\n",
      "Using Master_Flat_SDSS_z'.fits correcting NAME_Vel_G_SDSS_z_048.fits\n",
      "Using Master_Flat_SDSS_z'.fits correcting NAME_Vel_G_SDSS_z_056.fits\n",
      "Using Master_Flat_SDSS_z'.fits correcting NAME_Vel_G_SDSS_z_012.fits\n",
      "Using Master_Flat_SDSS_z'.fits correcting NAME_Vel_G_SDSS_z_024.fits\n",
      "Using Master_Flat_SDSS_z'.fits correcting E1_b_SDSS_z_008.fits\n",
      "Using Master_Flat_SDSS_z'.fits correcting NAME_Vel_G_SDSS_z_004.fits\n",
      "Using Master_Flat_SDSS_z'.fits correcting NAME_Vel_G_SDSS_z_008.fits\n",
      "Using Master_Flat_SDSS_z'.fits correcting NAME_Vel_G_SDSS_z_040.fits\n",
      "Using Master_Flat_SDSS_z'.fits correcting NAME_Vel_G_SDSS_z_044.fits\n",
      "Flat correction finished\n",
      "----------------------------------------------------------\n",
      "\n"
     ]
    }
   ],
   "source": [
    "# Combine Flat\n",
    "combine_images.combine_light_or_flat(image_type = \"Flat\")\n",
    "\n",
    "# Apply Flat Correction\n",
    "calibrate_images.apply_flat_correction()"
   ]
  },
  {
   "cell_type": "markdown",
   "id": "a61bef00-daab-4bed-9529-1ae8c0063c00",
   "metadata": {},
   "source": [
    "## Register source images"
   ]
  },
  {
   "cell_type": "code",
   "execution_count": 15,
   "id": "ff404e06-d157-4aad-98f7-2b945df9ac90",
   "metadata": {
    "collapsed": true,
    "jupyter": {
     "outputs_hidden": true
    }
   },
   "outputs": [
    {
     "name": "stdout",
     "output_type": "stream",
     "text": [
      "Aligning ['NAME Vel G'] ......\n",
      "Aligning NAME_Vel_G_SDSS_z_016.fits using NAME_Vel_G_SDSS_i_003.fits\n",
      "Aligning NAME_Vel_G_SDSS_g_033.fits using NAME_Vel_G_SDSS_i_003.fits\n",
      "Aligning NAME_Vel_G_SDSS_g_021.fits using NAME_Vel_G_SDSS_i_003.fits\n",
      "Aligning NAME_Vel_G_SDSS_g_009.fits using NAME_Vel_G_SDSS_i_003.fits\n",
      "Aligning NAME_Vel_G_SDSS_g_037.fits using NAME_Vel_G_SDSS_i_003.fits\n",
      "Aligning NAME_Vel_G_SDSS_g_005.fits using NAME_Vel_G_SDSS_i_003.fits\n",
      "Aligning NAME_Vel_G_SDSS_r_026.fits using NAME_Vel_G_SDSS_i_003.fits\n",
      "Aligning NAME_Vel_G_SDSS_r_038.fits using NAME_Vel_G_SDSS_i_003.fits\n",
      "Aligning NAME_Vel_G_SDSS_z_036.fits using NAME_Vel_G_SDSS_i_003.fits\n",
      "Aligning NAME_Vel_G_SDSS_r_058.fits using NAME_Vel_G_SDSS_i_003.fits\n",
      "Aligning NAME_Vel_G_SDSS_i_031.fits using NAME_Vel_G_SDSS_i_003.fits\n",
      "Aligning NAME_Vel_G_SDSS_i_019.fits using NAME_Vel_G_SDSS_i_003.fits\n",
      "Aligning NAME_Vel_G_SDSS_z_056.fits using NAME_Vel_G_SDSS_i_003.fits\n",
      "Aligning NAME_Vel_G_SDSS_g_029.fits using NAME_Vel_G_SDSS_i_003.fits\n",
      "Aligning NAME_Vel_G_SDSS_i_027.fits using NAME_Vel_G_SDSS_i_003.fits\n",
      "Aligning NAME_Vel_G_SDSS_i_039.fits using NAME_Vel_G_SDSS_i_003.fits\n",
      "Aligning NAME_Vel_G_SDSS_g_041.fits using NAME_Vel_G_SDSS_i_003.fits\n",
      "Aligning NAME_Vel_G_SDSS_g_053.fits using NAME_Vel_G_SDSS_i_003.fits\n",
      "Aligning NAME_Vel_G_SDSS_i_043.fits using NAME_Vel_G_SDSS_i_003.fits\n",
      "Aligning NAME_Vel_G_SDSS_z_032.fits using NAME_Vel_G_SDSS_i_003.fits\n",
      "Aligning NAME_Vel_G_SDSS_r_042.fits using NAME_Vel_G_SDSS_i_003.fits\n",
      "Aligning NAME_Vel_G_SDSS_i_011.fits using NAME_Vel_G_SDSS_i_003.fits\n",
      "Aligning NAME_Vel_G_SDSS_r_030.fits using NAME_Vel_G_SDSS_i_003.fits\n",
      "Aligning NAME_Vel_G_SDSS_i_023.fits using NAME_Vel_G_SDSS_i_003.fits\n",
      "Aligning NAME_Vel_G_SDSS_g_049.fits using NAME_Vel_G_SDSS_i_003.fits\n",
      "Aligning NAME_Vel_G_SDSS_i_007.fits using NAME_Vel_G_SDSS_i_003.fits\n",
      "Aligning NAME_Vel_G_SDSS_z_020.fits using NAME_Vel_G_SDSS_i_003.fits\n",
      "Aligning NAME_Vel_G_SDSS_r_010.fits using NAME_Vel_G_SDSS_i_003.fits\n",
      "Aligning NAME_Vel_G_SDSS_z_040.fits using NAME_Vel_G_SDSS_i_003.fits\n",
      "Aligning NAME_Vel_G_SDSS_z_044.fits using NAME_Vel_G_SDSS_i_003.fits\n",
      "Aligning NAME_Vel_G_SDSS_z_028.fits using NAME_Vel_G_SDSS_i_003.fits\n",
      "Aligning NAME_Vel_G_SDSS_i_055.fits using NAME_Vel_G_SDSS_i_003.fits\n",
      "Aligning NAME_Vel_G_SDSS_r_018.fits using NAME_Vel_G_SDSS_i_003.fits\n",
      "Aligning NAME_Vel_G_SDSS_r_022.fits using NAME_Vel_G_SDSS_i_003.fits\n",
      "Aligning NAME_Vel_G_SDSS_r_034.fits using NAME_Vel_G_SDSS_i_003.fits\n",
      "Aligning NAME_Vel_G_SDSS_i_051.fits using NAME_Vel_G_SDSS_i_003.fits\n",
      "Aligning NAME_Vel_G_SDSS_z_052.fits using NAME_Vel_G_SDSS_i_003.fits\n",
      "Aligning NAME_Vel_G_SDSS_g_017.fits using NAME_Vel_G_SDSS_i_003.fits\n",
      "Aligning NAME_Vel_G_SDSS_i_059.fits using NAME_Vel_G_SDSS_i_003.fits\n",
      "Aligning NAME_Vel_G_SDSS_g_057.fits using NAME_Vel_G_SDSS_i_003.fits\n",
      "Aligning NAME_Vel_G_SDSS_r_002.fits using NAME_Vel_G_SDSS_i_003.fits\n",
      "Aligning NAME_Vel_G_SDSS_g_001.fits using NAME_Vel_G_SDSS_i_003.fits\n",
      "Aligning NAME_Vel_G_SDSS_r_014.fits using NAME_Vel_G_SDSS_i_003.fits\n",
      "Aligning NAME_Vel_G_SDSS_r_006.fits using NAME_Vel_G_SDSS_i_003.fits\n",
      "Aligning NAME_Vel_G_SDSS_i_035.fits using NAME_Vel_G_SDSS_i_003.fits\n",
      "Aligning NAME_Vel_G_SDSS_z_060.fits using NAME_Vel_G_SDSS_i_003.fits\n",
      "Aligning NAME_Vel_G_SDSS_g_025.fits using NAME_Vel_G_SDSS_i_003.fits\n",
      "Aligning NAME_Vel_G_SDSS_r_046.fits using NAME_Vel_G_SDSS_i_003.fits\n",
      "Aligning NAME_Vel_G_SDSS_g_045.fits using NAME_Vel_G_SDSS_i_003.fits\n",
      "Aligning NAME_Vel_G_SDSS_r_050.fits using NAME_Vel_G_SDSS_i_003.fits\n",
      "Aligning NAME_Vel_G_SDSS_r_054.fits using NAME_Vel_G_SDSS_i_003.fits\n",
      "Aligning NAME_Vel_G_SDSS_i_015.fits using NAME_Vel_G_SDSS_i_003.fits\n",
      "Aligning NAME_Vel_G_SDSS_z_012.fits using NAME_Vel_G_SDSS_i_003.fits\n",
      "Aligning NAME_Vel_G_SDSS_i_047.fits using NAME_Vel_G_SDSS_i_003.fits\n",
      "Aligning NAME_Vel_G_SDSS_z_024.fits using NAME_Vel_G_SDSS_i_003.fits\n",
      "Aligning NAME_Vel_G_SDSS_z_004.fits using NAME_Vel_G_SDSS_i_003.fits\n",
      "Aligning NAME_Vel_G_SDSS_g_013.fits using NAME_Vel_G_SDSS_i_003.fits\n",
      "Aligning NAME_Vel_G_SDSS_z_008.fits using NAME_Vel_G_SDSS_i_003.fits\n",
      "Aligning NAME_Vel_G_SDSS_z_048.fits using NAME_Vel_G_SDSS_i_003.fits\n",
      "Alignment of NAME Vel G finished!\n",
      "----------------------------------------------------------\n",
      "\n",
      "Aligning ['E1 b'] ......\n",
      "Aligning E1_b_SDSS_r_002.fits using E1_b_SDSS_i_007.fits\n",
      "Aligning E1_b_SDSS_z_004.fits using E1_b_SDSS_i_007.fits\n",
      "Aligning E1_b_SDSS_g_001.fits using E1_b_SDSS_i_007.fits\n",
      "Aligning E1_b_SDSS_r_006.fits using E1_b_SDSS_i_007.fits\n",
      "Aligning E1_b_SDSS_i_003.fits using E1_b_SDSS_i_007.fits\n",
      "Aligning E1_b_SDSS_z_008.fits using E1_b_SDSS_i_007.fits\n",
      "Aligning E1_b_SDSS_g_005.fits using E1_b_SDSS_i_007.fits\n",
      "Alignment of E1 b finished!\n",
      "----------------------------------------------------------\n",
      "\n"
     ]
    }
   ],
   "source": [
    "# Register source images\n",
    "registration.Register_images(filter = telescope.filters[2])"
   ]
  },
  {
   "cell_type": "markdown",
   "id": "d7475545-a21e-4276-a70e-51065e2bdd3f",
   "metadata": {},
   "source": [
    "## Combine Light images"
   ]
  },
  {
   "cell_type": "code",
   "execution_count": 17,
   "id": "d80f4a0a-4e39-47ce-ab55-3ce3d5aeb3af",
   "metadata": {
    "collapsed": true,
    "jupyter": {
     "outputs_hidden": true
    },
    "scrolled": true
   },
   "outputs": [
    {
     "name": "stdout",
     "output_type": "stream",
     "text": [
      "Using ['NAME_Vel_G_SDSS_g_033.fits', 'NAME_Vel_G_SDSS_g_013.fits', 'NAME_Vel_G_SDSS_g_021.fits', 'NAME_Vel_G_SDSS_g_009.fits', 'NAME_Vel_G_SDSS_g_037.fits', 'NAME_Vel_G_SDSS_g_005.fits', 'NAME_Vel_G_SDSS_g_025.fits', 'NAME_Vel_G_SDSS_g_045.fits', 'NAME_Vel_G_SDSS_g_017.fits', 'NAME_Vel_G_SDSS_g_049.fits', 'NAME_Vel_G_SDSS_g_001.fits', 'NAME_Vel_G_SDSS_g_057.fits', 'NAME_Vel_G_SDSS_g_029.fits', 'NAME_Vel_G_SDSS_g_041.fits', 'NAME_Vel_G_SDSS_g_053.fits'] to combine the master NAME Vel G image in SDSS_g' filter!\n",
      "NAME Vel G in SDSS_g' filter combined!\n",
      "----------------------------------------------------------\n",
      "\n",
      "Using ['NAME_Vel_G_SDSS_r_038.fits', 'NAME_Vel_G_SDSS_r_018.fits', 'NAME_Vel_G_SDSS_r_042.fits', 'NAME_Vel_G_SDSS_r_026.fits', 'NAME_Vel_G_SDSS_r_022.fits', 'NAME_Vel_G_SDSS_r_058.fits', 'NAME_Vel_G_SDSS_r_030.fits', 'NAME_Vel_G_SDSS_r_034.fits', 'NAME_Vel_G_SDSS_r_050.fits', 'NAME_Vel_G_SDSS_r_054.fits', 'NAME_Vel_G_SDSS_r_002.fits', 'NAME_Vel_G_SDSS_r_006.fits', 'NAME_Vel_G_SDSS_r_014.fits', 'NAME_Vel_G_SDSS_r_046.fits', 'NAME_Vel_G_SDSS_r_010.fits'] to combine the master NAME Vel G image in SDSS_r' filter!\n",
      "NAME Vel G in SDSS_r' filter combined!\n",
      "----------------------------------------------------------\n",
      "\n",
      "Using ['NAME_Vel_G_SDSS_i_003.fits', 'NAME_Vel_G_SDSS_i_043.fits', 'NAME_Vel_G_SDSS_i_055.fits', 'NAME_Vel_G_SDSS_i_035.fits', 'NAME_Vel_G_SDSS_i_011.fits', 'NAME_Vel_G_SDSS_i_051.fits', 'NAME_Vel_G_SDSS_i_031.fits', 'NAME_Vel_G_SDSS_i_019.fits', 'NAME_Vel_G_SDSS_i_023.fits', 'NAME_Vel_G_SDSS_i_059.fits', 'NAME_Vel_G_SDSS_i_015.fits', 'NAME_Vel_G_SDSS_i_047.fits', 'NAME_Vel_G_SDSS_i_007.fits', 'NAME_Vel_G_SDSS_i_027.fits', 'NAME_Vel_G_SDSS_i_039.fits'] to combine the master NAME Vel G image in SDSS_i' filter!\n",
      "NAME Vel G in SDSS_i' filter combined!\n",
      "----------------------------------------------------------\n",
      "\n",
      "Using ['NAME_Vel_G_SDSS_z_016.fits', 'NAME_Vel_G_SDSS_z_028.fits', 'NAME_Vel_G_SDSS_z_008.fits', 'NAME_Vel_G_SDSS_z_032.fits', 'NAME_Vel_G_SDSS_z_060.fits', 'NAME_Vel_G_SDSS_z_036.fits', 'NAME_Vel_G_SDSS_z_052.fits', 'NAME_Vel_G_SDSS_z_048.fits', 'NAME_Vel_G_SDSS_z_056.fits', 'NAME_Vel_G_SDSS_z_012.fits', 'NAME_Vel_G_SDSS_z_024.fits', 'NAME_Vel_G_SDSS_z_004.fits', 'NAME_Vel_G_SDSS_z_020.fits', 'NAME_Vel_G_SDSS_z_040.fits', 'NAME_Vel_G_SDSS_z_044.fits'] to combine the master NAME Vel G image in SDSS_z' filter!\n",
      "NAME Vel G in SDSS_z' filter combined!\n",
      "----------------------------------------------------------\n",
      "\n",
      "Using ['E1_b_SDSS_g_005.fits', 'E1_b_SDSS_g_001.fits'] to combine the master E1 b image in SDSS_g' filter!\n",
      "E1 b in SDSS_g' filter combined!\n",
      "----------------------------------------------------------\n",
      "\n",
      "Using ['E1_b_SDSS_r_002.fits', 'E1_b_SDSS_r_006.fits'] to combine the master E1 b image in SDSS_r' filter!\n",
      "E1 b in SDSS_r' filter combined!\n",
      "----------------------------------------------------------\n",
      "\n",
      "Using ['E1_b_SDSS_i_007.fits', 'E1_b_SDSS_i_003.fits'] to combine the master E1 b image in SDSS_i' filter!\n",
      "E1 b in SDSS_i' filter combined!\n",
      "----------------------------------------------------------\n",
      "\n",
      "Using ['E1_b_SDSS_z_008.fits', 'E1_b_SDSS_z_004.fits'] to combine the master E1 b image in SDSS_z' filter!\n",
      "E1 b in SDSS_z' filter combined!\n",
      "----------------------------------------------------------\n",
      "\n"
     ]
    }
   ],
   "source": [
    "# combine light images\n",
    "combine_images.combine_light_or_flat(image_type = \"Light\")"
   ]
  },
  {
   "cell_type": "markdown",
   "id": "82e97fa3-88ca-4c81-8368-47ea39913c82",
   "metadata": {},
   "source": [
    "## Plate solving"
   ]
  },
  {
   "cell_type": "code",
   "execution_count": 5,
   "id": "fa3d6fbe-e65d-46ce-8294-d8ab6befb3f1",
   "metadata": {
    "collapsed": true,
    "jupyter": {
     "outputs_hidden": true
    }
   },
   "outputs": [
    {
     "name": "stdout",
     "output_type": "stream",
     "text": [
      "Determining the local peaks of E1 b in SDSS_i' filter.....\n",
      "Determining the centroids of E1 b in SDSS_i' filter.....\n",
      "----------------------------------------\n",
      "\n",
      "Determining the local peaks of NAME Vel G in SDSS_i' filter.....\n",
      "Determining the centroids of NAME Vel G in SDSS_i' filter.....\n",
      "----------------------------------------\n",
      "\n",
      "Determining the local peaks of NAME Vel G in SDSS_z' filter.....\n",
      "Determining the centroids of NAME Vel G in SDSS_z' filter.....\n",
      "----------------------------------------\n",
      "\n",
      "Determining the local peaks of E1 b in SDSS_r' filter.....\n",
      "Determining the centroids of E1 b in SDSS_r' filter.....\n",
      "----------------------------------------\n",
      "\n",
      "Determining the local peaks of NAME Vel G in SDSS_g' filter.....\n",
      "Determining the centroids of NAME Vel G in SDSS_g' filter.....\n",
      "----------------------------------------\n",
      "\n",
      "Determining the local peaks of NAME Vel G in SDSS_r' filter.....\n",
      "Determining the centroids of NAME Vel G in SDSS_r' filter.....\n",
      "----------------------------------------\n",
      "\n",
      "Determining the local peaks of E1 b in SDSS_z' filter.....\n",
      "Determining the centroids of E1 b in SDSS_z' filter.....\n",
      "----------------------------------------\n",
      "\n",
      "Determining the local peaks of E1 b in SDSS_g' filter.....\n",
      "Determining the centroids of E1 b in SDSS_g' filter.....\n",
      "----------------------------------------\n",
      "\n",
      "Finding FWHM for Master_E1 b_SDSS_i'.fits\n",
      "Finding FWHM for Master_NAME Vel G_SDSS_i'.fits\n",
      "Finding FWHM for Master_NAME Vel G_SDSS_z'.fits\n",
      "Finding FWHM for Master_E1 b_SDSS_r'.fits\n",
      "Finding FWHM for Master_NAME Vel G_SDSS_g'.fits\n",
      "Finding FWHM for Master_NAME Vel G_SDSS_r'.fits\n",
      "Finding FWHM for Master_E1 b_SDSS_z'.fits\n",
      "Finding FWHM for Master_E1 b_SDSS_g'.fits\n",
      "The FWHM of the image collection is 8.7091\n",
      "----------------------------------------\n",
      "\n"
     ]
    },
    {
     "name": "stderr",
     "output_type": "stream",
     "text": [
      "WARNING: Astrometry.net API key not found in configuration file [astroquery.astrometry_net.core]\n",
      "WARNING:astroquery:Astrometry.net API key not found in configuration file\n",
      "WARNING: You need to manually edit the configuration file and add it [astroquery.astrometry_net.core]\n",
      "WARNING:astroquery:You need to manually edit the configuration file and add it\n",
      "WARNING: You may also register it for this session with AstrometryNet.key = 'XXXXXXXX' [astroquery.astrometry_net.core]\n",
      "WARNING:astroquery:You may also register it for this session with AstrometryNet.key = 'XXXXXXXX'\n",
      "INFO:astropy:using the unit adu passed to the FITS reader instead of the unit adu in the FITS file.\n"
     ]
    },
    {
     "name": "stdout",
     "output_type": "stream",
     "text": [
      "INFO: using the unit adu passed to the FITS reader instead of the unit adu in the FITS file. [astropy.nddata.ccddata]\n",
      "Determining background stats\n",
      "Finding sources\n",
      "Found 119 sources\n",
      " id     xcentroid      ...        flux                 mag          \n",
      "--- ------------------ ... ------------------ ----------------------\n",
      " 37  359.4472405455978 ... 2082.7744449453266      -8.29660560091403\n",
      "111  96.56611833525365 ...  584.2198994032223     -6.916440864022054\n",
      " 93 1045.0284710312521 ... 399.25343017843835     -6.503121640148834\n",
      " 66 204.39135935243337 ... 233.97345862739004     -5.922916487270804\n",
      " 88  2009.319357136736 ... 191.52580574093744     -5.705568245185031\n",
      " 85  32.60057291344423 ... 165.98623441365382     -5.550180181454344\n",
      "117  1285.715892613958 ...  162.2913732862531     -5.525738588016745\n",
      "...                ... ...                ...                    ...\n",
      " 50 1817.4980643390102 ...  1.028307064514136   -0.03030704859172579\n",
      " 62 1637.9850233128288 ... 1.0248883130825281  -0.026691352126328192\n",
      " 22  1000.714052915374 ... 1.0224352885892882   -0.02408957605557588\n",
      " 11 191.84845065297597 ... 1.0103821667639152  -0.011214180803126975\n",
      " 78  924.1474918139535 ... 1.0096264165474487  -0.010401763057147212\n",
      " 60  243.7345100363901 ... 1.0084814006527547  -0.009169732404775664\n",
      " 27   832.259675310254 ... 1.0001702092944669 -0.0001847866676309448\n",
      "Length = 119 rows\n",
      "Solving..........."
     ]
    },
    {
     "name": "stderr",
     "output_type": "stream",
     "text": [
      "WARNING: FITSFixedWarning: The WCS transformation has more axes (2) than the image it is associated with (0) [astropy.wcs.wcs]\n",
      "WARNING:astroquery:FITSFixedWarning: The WCS transformation has more axes (2) than the image it is associated with (0)\n",
      "WARNING: Some non-standard WCS keywords were excluded: A_ORDER, A_0_2, A_1_1, A_2_0, B_ORDER, B_0_2, B_1_1, B_2_0, AP_ORDER, AP_0_0, AP_0_1, AP_0_2, AP_1_0, AP_1_1, AP_2_0, BP_ORDER, BP_0_0, BP_0_1, BP_0_2, BP_1_0, BP_1_1, BP_2_0 Use the ``relax`` kwarg to control this. [astropy.wcs.wcs]\n",
      "WARNING:astroquery:Some non-standard WCS keywords were excluded: A_ORDER, A_0_2, A_1_1, A_2_0, B_ORDER, B_0_2, B_1_1, B_2_0, AP_ORDER, AP_0_0, AP_0_1, AP_0_2, AP_1_0, AP_1_1, AP_2_0, BP_ORDER, BP_0_0, BP_0_1, BP_0_2, BP_1_0, BP_1_1, BP_2_0 Use the ``relax`` kwarg to control this.\n",
      "INFO:astropy:using the unit adu passed to the FITS reader instead of the unit adu in the FITS file.\n"
     ]
    },
    {
     "name": "stdout",
     "output_type": "stream",
     "text": [
      "WCS added to Master_E1 b_SDSS_i'.fits\n",
      "INFO: using the unit adu passed to the FITS reader instead of the unit adu in the FITS file. [astropy.nddata.ccddata]\n",
      "Determining background stats\n",
      "Finding sources\n",
      "Found 2163 sources\n",
      " id      xcentroid      ...        flux                 mag          \n",
      "---- ------------------ ... ------------------ ----------------------\n",
      "1328  1002.337944220714 ...  3630.515497351652     -8.899920737356325\n",
      "1809 1879.9869069894453 ...  3292.935844798826      -8.79395817393945\n",
      "1529  882.3532688875562 ...  3029.375922161341     -8.703382923172159\n",
      " 946  584.0801679837092 ...  2588.228255902328     -8.532506435311946\n",
      "1160  355.2862370662413 ... 1973.2694557371765     -8.237965983720294\n",
      "  18  301.5893163066814 ...  1967.556084857714      -8.23481780174811\n",
      " 804  1121.446485629143 ... 1592.2532479253086     -8.005030358613357\n",
      " ...                ... ...                ...                    ...\n",
      " 359  99.73001948540413 ... 1.0027038930671905  -0.002931752807566652\n",
      "1978 1610.3047867167247 ... 1.0026123707636818 -0.0028326471649071216\n",
      "1616  460.3251866364879 ... 1.0024866732810622  -0.002696519916419164\n",
      " 566  197.2237816849003 ... 1.0020583520591513 -0.0022325304733349107\n",
      "1945 1916.3268655966715 ... 1.0020109190751467   -0.00218113533566691\n",
      "1339 241.06330067683925 ... 1.0008249618932432 -0.0008953217426359412\n",
      "1956 1754.8704657660044 ... 1.0003759207673115 -0.0004080740902327432\n",
      "Length = 2163 rows\n",
      "Solving............"
     ]
    },
    {
     "name": "stderr",
     "output_type": "stream",
     "text": [
      "WARNING: FITSFixedWarning: The WCS transformation has more axes (2) than the image it is associated with (0) [astropy.wcs.wcs]\n",
      "WARNING:astroquery:FITSFixedWarning: The WCS transformation has more axes (2) than the image it is associated with (0)\n",
      "WARNING: Some non-standard WCS keywords were excluded: A_ORDER, A_0_2, A_1_1, A_2_0, B_ORDER, B_0_2, B_1_1, B_2_0, AP_ORDER, AP_0_0, AP_0_1, AP_0_2, AP_1_0, AP_1_1, AP_2_0, BP_ORDER, BP_0_0, BP_0_1, BP_0_2, BP_1_0, BP_1_1, BP_2_0 Use the ``relax`` kwarg to control this. [astropy.wcs.wcs]\n",
      "WARNING:astroquery:Some non-standard WCS keywords were excluded: A_ORDER, A_0_2, A_1_1, A_2_0, B_ORDER, B_0_2, B_1_1, B_2_0, AP_ORDER, AP_0_0, AP_0_1, AP_0_2, AP_1_0, AP_1_1, AP_2_0, BP_ORDER, BP_0_0, BP_0_1, BP_0_2, BP_1_0, BP_1_1, BP_2_0 Use the ``relax`` kwarg to control this.\n",
      "INFO:astropy:using the unit adu passed to the FITS reader instead of the unit adu in the FITS file.\n"
     ]
    },
    {
     "name": "stdout",
     "output_type": "stream",
     "text": [
      "WCS added to Master_NAME Vel G_SDSS_i'.fits\n",
      "INFO: using the unit adu passed to the FITS reader instead of the unit adu in the FITS file. [astropy.nddata.ccddata]\n",
      "Determining background stats\n",
      "Finding sources\n",
      "Found 1822 sources\n",
      " id      xcentroid      ...        flux                 mag          \n",
      "---- ------------------ ... ------------------ ----------------------\n",
      "1514 1879.9354745791793 ...  5384.931454684152     -9.327950448731288\n",
      "1284  882.4514640322883 ...   3296.17970341425     -8.795027202096763\n",
      "1110 1002.4551950342657 ... 2290.7821292184963     -8.399959466123235\n",
      "  17  301.6582913170097 ... 1294.4418732586757     -7.780206383181008\n",
      " 971 355.36844581641196 ...  936.0741347948994    -7.4282756129173055\n",
      " 791  584.1707234610325 ...  924.7617602448308     -7.415074657421838\n",
      " 892 1551.1121056476172 ...   856.850994694373     -7.332263263068306\n",
      " ...                ... ...                ...                    ...\n",
      " 610  57.98054040362519 ...  1.005390865411973  -0.005837337700609851\n",
      "1263 1977.9485860986342 ... 1.0053756770729916  -0.005820935468750378\n",
      "1255 1331.1528176102606 ... 1.0043764391836778 -0.0047412910347769165\n",
      " 904  730.4509826438097 ... 1.0037674306856132   -0.00408274997549665\n",
      "1659  830.3688368909277 ... 1.0035099887255268 -0.0038042493003838116\n",
      "1667 1615.0677741984712 ... 1.0017973058343586 -0.0019496484824492346\n",
      "1100 175.04447690732732 ...  1.001033264376591 -0.0011212733565514532\n",
      "Length = 1822 rows\n",
      "Solving............."
     ]
    },
    {
     "name": "stderr",
     "output_type": "stream",
     "text": [
      "WARNING: FITSFixedWarning: The WCS transformation has more axes (2) than the image it is associated with (0) [astropy.wcs.wcs]\n",
      "WARNING:astroquery:FITSFixedWarning: The WCS transformation has more axes (2) than the image it is associated with (0)\n",
      "WARNING: Some non-standard WCS keywords were excluded: A_ORDER, A_0_2, A_1_1, A_2_0, B_ORDER, B_0_2, B_1_1, B_2_0, AP_ORDER, AP_0_0, AP_0_1, AP_0_2, AP_1_0, AP_1_1, AP_2_0, BP_ORDER, BP_0_0, BP_0_1, BP_0_2, BP_1_0, BP_1_1, BP_2_0 Use the ``relax`` kwarg to control this. [astropy.wcs.wcs]\n",
      "WARNING:astroquery:Some non-standard WCS keywords were excluded: A_ORDER, A_0_2, A_1_1, A_2_0, B_ORDER, B_0_2, B_1_1, B_2_0, AP_ORDER, AP_0_0, AP_0_1, AP_0_2, AP_1_0, AP_1_1, AP_2_0, BP_ORDER, BP_0_0, BP_0_1, BP_0_2, BP_1_0, BP_1_1, BP_2_0 Use the ``relax`` kwarg to control this.\n",
      "INFO:astropy:using the unit adu passed to the FITS reader instead of the unit adu in the FITS file.\n"
     ]
    },
    {
     "name": "stdout",
     "output_type": "stream",
     "text": [
      "WCS added to Master_NAME Vel G_SDSS_z'.fits\n",
      "INFO: using the unit adu passed to the FITS reader instead of the unit adu in the FITS file. [astropy.nddata.ccddata]\n",
      "Determining background stats\n",
      "Finding sources\n",
      "Found 164 sources\n",
      " id     xcentroid      ...        flux                 mag          \n",
      "--- ------------------ ... ------------------ ----------------------\n",
      " 50 359.46690518704696 ...  3101.236833627303     -8.728837333692281\n",
      "153  96.65180226717979 ...  880.6060126499411     -7.361954116083172\n",
      "124  1045.061633152061 ...  560.7542006262112     -6.871931338949823\n",
      " 79 204.44959115187697 ... 350.75725323741847     -6.362516651199797\n",
      "115 2009.3233182087934 ... 283.09365109411607     -6.129825324015813\n",
      "112 32.677394258914426 ... 260.46245213814996     -6.039362812327478\n",
      "162 1285.7378673456183 ... 248.06044053436963     -5.986393776586557\n",
      "...                ... ...                ...                    ...\n",
      "158 469.17826354934334 ...  1.013317507791641  -0.014363865810477095\n",
      " 61 2014.6885175072284 ...  1.008448118378652  -0.009133899947932424\n",
      "151 1762.9140779564243 ... 1.0070309256587955  -0.007607019573551315\n",
      " 85  892.5020458808598 ... 1.0061698677877424  -0.006678267940783991\n",
      " 26  804.4958736772471 ... 1.0049573488052514  -0.005369075854976699\n",
      " 39 1236.1192656961894 ... 1.0015293406713752  -0.001659192124463361\n",
      " 42  759.1944114606343 ... 1.0006470182582639 -0.0007022639838180819\n",
      "Length = 164 rows\n",
      "Solving.............."
     ]
    },
    {
     "name": "stderr",
     "output_type": "stream",
     "text": [
      "WARNING: FITSFixedWarning: The WCS transformation has more axes (2) than the image it is associated with (0) [astropy.wcs.wcs]\n",
      "WARNING:astroquery:FITSFixedWarning: The WCS transformation has more axes (2) than the image it is associated with (0)\n",
      "WARNING: Some non-standard WCS keywords were excluded: A_ORDER, A_0_2, A_1_1, A_2_0, B_ORDER, B_0_2, B_1_1, B_2_0, AP_ORDER, AP_0_0, AP_0_1, AP_0_2, AP_1_0, AP_1_1, AP_2_0, BP_ORDER, BP_0_0, BP_0_1, BP_0_2, BP_1_0, BP_1_1, BP_2_0 Use the ``relax`` kwarg to control this. [astropy.wcs.wcs]\n",
      "WARNING:astroquery:Some non-standard WCS keywords were excluded: A_ORDER, A_0_2, A_1_1, A_2_0, B_ORDER, B_0_2, B_1_1, B_2_0, AP_ORDER, AP_0_0, AP_0_1, AP_0_2, AP_1_0, AP_1_1, AP_2_0, BP_ORDER, BP_0_0, BP_0_1, BP_0_2, BP_1_0, BP_1_1, BP_2_0 Use the ``relax`` kwarg to control this.\n",
      "INFO:astropy:using the unit adu passed to the FITS reader instead of the unit adu in the FITS file.\n"
     ]
    },
    {
     "name": "stdout",
     "output_type": "stream",
     "text": [
      "WCS added to Master_E1 b_SDSS_r'.fits\n",
      "INFO: using the unit adu passed to the FITS reader instead of the unit adu in the FITS file. [astropy.nddata.ccddata]\n",
      "Determining background stats\n",
      "Finding sources\n",
      "Found 627 sources\n",
      " id     xcentroid      ...        flux                 mag          \n",
      "--- ------------------ ... ------------------ ----------------------\n",
      "247  584.0436949730083 ... 2413.2449278589725     -8.456503505165125\n",
      "213 1121.4623110491068 ... 1168.4873731183602     -7.669060059226157\n",
      "511 1879.5564521650708 ... 1123.9185570804534     -7.626837104835184\n",
      "361   1968.59318508282 ...  967.9698842333122    -7.4646546140490075\n",
      "366  1002.355469727012 ...   944.498436159822     -7.438003107953466\n",
      "321 355.30630038314075 ...  669.1014331388201     -7.063729900223965\n",
      "178    725.49085629048 ...  644.8125400440679    -7.0235836871406345\n",
      "...                ... ...                ...                    ...\n",
      "588  309.2802188052871 ... 1.0200182734986847   -0.02151988040615779\n",
      "354  1638.076709323868 ... 1.0158633824542918  -0.017088265352828334\n",
      "192  301.1920980529062 ... 1.0129181162213265  -0.013935846592729187\n",
      "251 153.08471016064198 ...  1.012084231486925  -0.013041646248777957\n",
      "359  1695.509653076138 ...  1.002608333012598 -0.0028282746461822427\n",
      "256 1996.0343318151151 ... 1.0021113405343542 -0.0022899422845091863\n",
      "264 1044.0647525225215 ... 1.0012790708119885 -0.0013878461013967422\n",
      "Length = 627 rows\n",
      "Solving......"
     ]
    },
    {
     "name": "stderr",
     "output_type": "stream",
     "text": [
      "WARNING: FITSFixedWarning: The WCS transformation has more axes (2) than the image it is associated with (0) [astropy.wcs.wcs]\n",
      "WARNING:astroquery:FITSFixedWarning: The WCS transformation has more axes (2) than the image it is associated with (0)\n",
      "WARNING: Some non-standard WCS keywords were excluded: A_ORDER, A_0_2, A_1_1, A_2_0, B_ORDER, B_0_2, B_1_1, B_2_0, AP_ORDER, AP_0_0, AP_0_1, AP_0_2, AP_1_0, AP_1_1, AP_2_0, BP_ORDER, BP_0_0, BP_0_1, BP_0_2, BP_1_0, BP_1_1, BP_2_0 Use the ``relax`` kwarg to control this. [astropy.wcs.wcs]\n",
      "WARNING:astroquery:Some non-standard WCS keywords were excluded: A_ORDER, A_0_2, A_1_1, A_2_0, B_ORDER, B_0_2, B_1_1, B_2_0, AP_ORDER, AP_0_0, AP_0_1, AP_0_2, AP_1_0, AP_1_1, AP_2_0, BP_ORDER, BP_0_0, BP_0_1, BP_0_2, BP_1_0, BP_1_1, BP_2_0 Use the ``relax`` kwarg to control this.\n",
      "INFO:astropy:using the unit adu passed to the FITS reader instead of the unit adu in the FITS file.\n"
     ]
    },
    {
     "name": "stdout",
     "output_type": "stream",
     "text": [
      "WCS added to Master_NAME Vel G_SDSS_g'.fits\n",
      "INFO: using the unit adu passed to the FITS reader instead of the unit adu in the FITS file. [astropy.nddata.ccddata]\n",
      "Determining background stats\n",
      "Finding sources\n",
      "Found 1576 sources\n",
      " id      xcentroid      ...        flux                  mag          \n",
      "---- ------------------ ... ------------------ -----------------------\n",
      " 971 1002.3067686730781 ... 3319.6616455338826      -8.802734551906198\n",
      "1317  1879.780480749837 ... 3294.4931745413287      -8.794471530306772\n",
      " 679   584.057426746184 ...  3125.195158594197       -8.73719285712353\n",
      " 588 1121.4259344958837 ...  2092.577488624427      -8.301703872468387\n",
      " 843  355.2758710817156 ... 1948.9454985857158      -8.224499236077234\n",
      " 953 1968.9846986909401 ... 1718.4867077606805      -8.087865443207384\n",
      " 767  1550.940564367063 ...  1373.415562088824      -7.844504910126559\n",
      " ...                ... ...                ...                     ...\n",
      " 861  694.1423911302344 ... 1.0079499473871858   -0.008597416302383422\n",
      " 976  767.1288098651723 ... 1.0050273242416197   -0.005444673311771481\n",
      "1429   427.052763053034 ...  1.004320942521591   -0.004681297194156739\n",
      "1539 1525.9294319126113 ... 1.0023058978037678  -0.0025007146406077416\n",
      "  10 1334.4297290072154 ... 1.0017047592488533  -0.0018493429421331362\n",
      " 464 1068.9503882660317 ... 1.0001791238315545 -0.00019446381302197518\n",
      "1400 1427.3552752316962 ... 1.0000175671739968  -1.907314929344987e-05\n",
      "Length = 1576 rows\n",
      "Solving..........."
     ]
    },
    {
     "name": "stderr",
     "output_type": "stream",
     "text": [
      "WARNING: FITSFixedWarning: The WCS transformation has more axes (2) than the image it is associated with (0) [astropy.wcs.wcs]\n",
      "WARNING:astroquery:FITSFixedWarning: The WCS transformation has more axes (2) than the image it is associated with (0)\n",
      "WARNING: Some non-standard WCS keywords were excluded: A_ORDER, A_0_2, A_1_1, A_2_0, B_ORDER, B_0_2, B_1_1, B_2_0, AP_ORDER, AP_0_0, AP_0_1, AP_0_2, AP_1_0, AP_1_1, AP_2_0, BP_ORDER, BP_0_0, BP_0_1, BP_0_2, BP_1_0, BP_1_1, BP_2_0 Use the ``relax`` kwarg to control this. [astropy.wcs.wcs]\n",
      "WARNING:astroquery:Some non-standard WCS keywords were excluded: A_ORDER, A_0_2, A_1_1, A_2_0, B_ORDER, B_0_2, B_1_1, B_2_0, AP_ORDER, AP_0_0, AP_0_1, AP_0_2, AP_1_0, AP_1_1, AP_2_0, BP_ORDER, BP_0_0, BP_0_1, BP_0_2, BP_1_0, BP_1_1, BP_2_0 Use the ``relax`` kwarg to control this.\n",
      "INFO:astropy:using the unit adu passed to the FITS reader instead of the unit adu in the FITS file.\n"
     ]
    },
    {
     "name": "stdout",
     "output_type": "stream",
     "text": [
      "WCS added to Master_NAME Vel G_SDSS_r'.fits\n",
      "INFO: using the unit adu passed to the FITS reader instead of the unit adu in the FITS file. [astropy.nddata.ccddata]\n",
      "Determining background stats\n",
      "Finding sources\n",
      "Found 78 sources\n",
      " id     xcentroid      ...        flux                 mag         \n",
      "--- ------------------ ... ------------------ ---------------------\n",
      " 27  359.5091487066465 ...  514.1121876084924    -6.777644748572355\n",
      " 70  96.61427216783535 ... 152.92980399962482     -5.46123032980311\n",
      " 63 1045.1355546352713 ... 109.33118840221645     -5.09686017200247\n",
      " 39 204.35712627692882 ...   61.3613346919281   -4.4697369938384295\n",
      " 59  2009.387996144458 ... 49.391024456799286    -4.234120085717733\n",
      " 77  1285.789983688648 ...  42.85351623269866    -4.079966156535214\n",
      " 57 32.553003013457115 ...  40.84126501796733    -4.027747963667827\n",
      "...                ... ...                ...                   ...\n",
      " 51  819.6076941237509 ... 1.1929343268122656   -0.1915413390834244\n",
      " 62  734.6115378883355 ... 1.0946970043847155  -0.09823482412059681\n",
      " 18 2038.4366926584253 ... 1.0884335397373284  -0.09200478990458742\n",
      " 14 1166.1171516337442 ...  1.087761089897607   -0.0913337992218935\n",
      " 26  821.4375910704049 ... 1.0573081647830949  -0.06050396486067065\n",
      " 74 1339.6452058235654 ...  1.010672491244878 -0.011526112794701645\n",
      " 69 1860.1812306821414 ...  1.008690749305313 -0.009395094838339555\n",
      "Length = 78 rows\n",
      "Solving.........."
     ]
    },
    {
     "name": "stderr",
     "output_type": "stream",
     "text": [
      "WARNING: FITSFixedWarning: The WCS transformation has more axes (2) than the image it is associated with (0) [astropy.wcs.wcs]\n",
      "WARNING:astroquery:FITSFixedWarning: The WCS transformation has more axes (2) than the image it is associated with (0)\n",
      "WARNING: Some non-standard WCS keywords were excluded: A_ORDER, A_0_2, A_1_1, A_2_0, B_ORDER, B_0_2, B_1_1, B_2_0, AP_ORDER, AP_0_0, AP_0_1, AP_0_2, AP_1_0, AP_1_1, AP_2_0, BP_ORDER, BP_0_0, BP_0_1, BP_0_2, BP_1_0, BP_1_1, BP_2_0 Use the ``relax`` kwarg to control this. [astropy.wcs.wcs]\n",
      "WARNING:astroquery:Some non-standard WCS keywords were excluded: A_ORDER, A_0_2, A_1_1, A_2_0, B_ORDER, B_0_2, B_1_1, B_2_0, AP_ORDER, AP_0_0, AP_0_1, AP_0_2, AP_1_0, AP_1_1, AP_2_0, BP_ORDER, BP_0_0, BP_0_1, BP_0_2, BP_1_0, BP_1_1, BP_2_0 Use the ``relax`` kwarg to control this.\n",
      "INFO:astropy:using the unit adu passed to the FITS reader instead of the unit adu in the FITS file.\n"
     ]
    },
    {
     "name": "stdout",
     "output_type": "stream",
     "text": [
      "WCS added to Master_E1 b_SDSS_z'.fits\n",
      "INFO: using the unit adu passed to the FITS reader instead of the unit adu in the FITS file. [astropy.nddata.ccddata]\n",
      "Determining background stats\n",
      "Finding sources\n",
      "Found 141 sources\n",
      " id     xcentroid      ...        flux                 mag         \n",
      "--- ------------------ ... ------------------ ---------------------\n",
      " 47  359.5440597336397 ...  2363.326099721988    -8.433809127968491\n",
      "124  96.71901369308168 ...  460.1999245242801    -6.657366357763921\n",
      "106 1045.2601055744517 ...  262.2699309046919    -6.046871254585549\n",
      " 75 204.58525172038543 ...  196.6008243995568    -5.733963336530573\n",
      " 97  32.68347104890015 ... 161.04985775041874    -5.517400863897728\n",
      "101 2009.5906946107266 ... 159.15754841511819     -5.50456810216624\n",
      "140 1286.0895671513283 ... 130.12469664601966    -5.285899325170385\n",
      "...                ... ...                ...                   ...\n",
      "  7  1516.608141893562 ... 1.0178031649729562  -0.01915949256679233\n",
      "122 2032.3037718234164 ...  1.015915389922967 -0.017143848561432022\n",
      "136  162.1153765352359 ... 1.0096156987076397 -0.010390237201352487\n",
      "125  393.5288339852049 ... 1.0087142053394533 -0.009420342189327484\n",
      " 22 1844.1544240669966 ... 1.0056250845758727 -0.006090244921207016\n",
      " 64 463.74192821094846 ... 1.0039549157685843 -0.004285526363760653\n",
      "129 2003.5862445656153 ... 1.0020687001873994 -0.002243742674156129\n",
      "Length = 141 rows\n",
      "Solving......."
     ]
    },
    {
     "name": "stderr",
     "output_type": "stream",
     "text": [
      "WARNING: FITSFixedWarning: The WCS transformation has more axes (2) than the image it is associated with (0) [astropy.wcs.wcs]\n",
      "WARNING:astroquery:FITSFixedWarning: The WCS transformation has more axes (2) than the image it is associated with (0)\n",
      "WARNING: Some non-standard WCS keywords were excluded: A_ORDER, A_0_2, A_1_1, A_2_0, B_ORDER, B_0_2, B_1_1, B_2_0, AP_ORDER, AP_0_0, AP_0_1, AP_0_2, AP_1_0, AP_1_1, AP_2_0, BP_ORDER, BP_0_0, BP_0_1, BP_0_2, BP_1_0, BP_1_1, BP_2_0 Use the ``relax`` kwarg to control this. [astropy.wcs.wcs]\n",
      "WARNING:astroquery:Some non-standard WCS keywords were excluded: A_ORDER, A_0_2, A_1_1, A_2_0, B_ORDER, B_0_2, B_1_1, B_2_0, AP_ORDER, AP_0_0, AP_0_1, AP_0_2, AP_1_0, AP_1_1, AP_2_0, BP_ORDER, BP_0_0, BP_0_1, BP_0_2, BP_1_0, BP_1_1, BP_2_0 Use the ``relax`` kwarg to control this.\n"
     ]
    },
    {
     "name": "stdout",
     "output_type": "stream",
     "text": [
      "WCS added to Master_E1 b_SDSS_g'.fits\n"
     ]
    }
   ],
   "source": [
    "# beofore plate solving, we need to find the FWHM of the PSF first\n",
    "sources_detection.find_fwhm(fit_box_size = 301)\n",
    "\n",
    "# Add WCS to the Master Light images\n",
    "# If the Master Light images contains WCS, it will be overwritten\n",
    "plate_solving.add_wcs(api = \"mmzlynroxjblhdzw\")"
   ]
  },
  {
   "cell_type": "markdown",
   "id": "d7141bc6-3e45-479f-99fd-d4d2dafc21a4",
   "metadata": {},
   "source": [
    "# Photometry"
   ]
  },
  {
   "cell_type": "markdown",
   "id": "0395e727-f2e0-4c64-913b-8218117e6a83",
   "metadata": {},
   "source": [
    "Here let me explain the difference between sources and objects:\n",
    "1. **Object**: this is used to identify the images. When you observe, you input the object name in the observation software. It can be the same as source or not, depending on if there are one or multiple sources in the image.\n",
    "2. **Source**: this is used to identify each individual sources in each image.\n",
    "For example, we use the object name *E1 b* to identify the standard star images, while there are multiple standard star sources in a standard image."
   ]
  },
  {
   "cell_type": "markdown",
   "id": "b7b781f8-517c-422b-8e8a-869fa7aba93c",
   "metadata": {},
   "source": [
    "## Define sources"
   ]
  },
  {
   "cell_type": "code",
   "execution_count": 6,
   "id": "99c9e6bd-3173-4b8d-aad7-d4893caa8816",
   "metadata": {},
   "outputs": [],
   "source": [
    "objects = [\"E1 b\", \"NAME Vel G\"]\n",
    "\n",
    "skycoord_E1 = SkyCoord(ra = [\"1:24:27.0792\", \"1:24:08.6412\", \"1:24:00.1725\"], \n",
    "                       dec = [\"-44:18:31.360\", \"-44:19:52.773\", \"-44:17:30.642\"], \n",
    "                       frame='icrs',unit=(u.hourangle, u.deg))\n",
    "\n",
    "skycoord_NAME = SkyCoord(ra = [\"08:33:12.4538\"],\n",
    "                         dec = [\"-44:40:39.830\"],\n",
    "                         frame='icrs',unit=(u.hourangle, u.deg))\n",
    "\n",
    "sources = Sources(object = objects, skycoords = [skycoord_E1, skycoord_NAME])"
   ]
  },
  {
   "cell_type": "markdown",
   "id": "d0bd051e-2c5e-4c76-a23c-3d24cd7f6d09",
   "metadata": {},
   "source": [
    "## Start Photometry"
   ]
  },
  {
   "cell_type": "code",
   "execution_count": 7,
   "id": "daea1abd-b97b-4ea8-8414-a7f578e177ac",
   "metadata": {},
   "outputs": [],
   "source": [
    "# define Photometry object\n",
    "photometry = Photometry(working_image_collection)"
   ]
  },
  {
   "cell_type": "code",
   "execution_count": 11,
   "id": "6236e0f8-a9c7-4dff-af00-4bba6d21dbd0",
   "metadata": {},
   "outputs": [
    {
     "name": "stderr",
     "output_type": "stream",
     "text": [
      "INFO:astropy:using the unit adu passed to the FITS reader instead of the unit adu in the FITS file.\n"
     ]
    },
    {
     "name": "stdout",
     "output_type": "stream",
     "text": [
      "Working on photometry of E1 b in SDSS_i' ......\n",
      "INFO: using the unit adu passed to the FITS reader instead of the unit adu in the FITS file. [astropy.nddata.ccddata]\n",
      "Conversion from sky coordiantes to pixel coordinates completed!\n"
     ]
    },
    {
     "name": "stderr",
     "output_type": "stream",
     "text": [
      "INFO:astropy:using the unit adu passed to the FITS reader instead of the unit adu in the FITS file.\n"
     ]
    },
    {
     "name": "stdout",
     "output_type": "stream",
     "text": [
      " id  xcenter   ycenter  ... total_bkg aperture_sum_bkgsub  mag_inst \n",
      "       pix       pix    ...    adu            adu                   \n",
      "--- --------- --------- ... --------- ------------------- ----------\n",
      "  1 576.63822 1118.1153 ... 45672.131            64150.92 -12.018007\n",
      "  2 1156.4399 1352.1582 ... 45443.307           64952.195 -12.031485\n",
      "  3 1420.2181 935.51577 ... 45739.443           61146.162 -11.965923\n",
      "----------------------------------------------------------\n",
      "\n",
      "Working on photometry of E1 b in SDSS_g' ......\n",
      "INFO: using the unit adu passed to the FITS reader instead of the unit adu in the FITS file. [astropy.nddata.ccddata]\n",
      "Conversion from sky coordiantes to pixel coordinates completed!\n"
     ]
    },
    {
     "name": "stderr",
     "output_type": "stream",
     "text": [
      "INFO:astropy:using the unit adu passed to the FITS reader instead of the unit adu in the FITS file.\n"
     ]
    },
    {
     "name": "stdout",
     "output_type": "stream",
     "text": [
      " id  xcenter   ycenter  ... total_bkg aperture_sum_bkgsub  mag_inst \n",
      "       pix       pix    ...    adu            adu                   \n",
      "--- --------- --------- ... --------- ------------------- ----------\n",
      "  1 576.82072 1118.2674 ... 14578.094           58469.701 -11.917327\n",
      "  2 1156.5082 1351.9594 ... 14509.616           60213.221  -11.94923\n",
      "  3 1420.3026 935.48421 ...  14429.47           57541.601 -11.899955\n",
      "----------------------------------------------------------\n",
      "\n",
      "Working on photometry of E1 b in SDSS_z' ......\n",
      "INFO: using the unit adu passed to the FITS reader instead of the unit adu in the FITS file. [astropy.nddata.ccddata]\n",
      "Conversion from sky coordiantes to pixel coordinates completed!\n"
     ]
    },
    {
     "name": "stderr",
     "output_type": "stream",
     "text": [
      "INFO:astropy:using the unit adu passed to the FITS reader instead of the unit adu in the FITS file.\n"
     ]
    },
    {
     "name": "stdout",
     "output_type": "stream",
     "text": [
      " id  xcenter   ycenter  ... total_bkg aperture_sum_bkgsub  mag_inst \n",
      "       pix       pix    ...    adu            adu                   \n",
      "--- --------- --------- ... --------- ------------------- ----------\n",
      "  1 576.19377 1118.0497 ... 42817.057            18075.67 -10.642736\n",
      "  2 1156.2794 1352.3904 ...  41979.22            18423.99 -10.663459\n",
      "  3 1420.0696 935.31532 ... 43157.749           18182.495 -10.649134\n",
      "----------------------------------------------------------\n",
      "\n",
      "Working on photometry of E1 b in SDSS_r' ......\n",
      "INFO: using the unit adu passed to the FITS reader instead of the unit adu in the FITS file. [astropy.nddata.ccddata]\n",
      "Conversion from sky coordiantes to pixel coordinates completed!\n",
      " id  xcenter   ycenter  ... total_bkg aperture_sum_bkgsub  mag_inst \n",
      "       pix       pix    ...    adu            adu                   \n",
      "--- --------- --------- ... --------- ------------------- ----------\n",
      "  1 576.92809 1118.1638 ... 29477.263           90042.376 -12.386117\n",
      "  2 1156.5268 1352.0078 ... 29306.884           92251.883 -12.412438\n",
      "  3 1420.2647 935.74937 ...  29156.84           87108.031 -12.350145\n",
      "----------------------------------------------------------\n",
      "\n"
     ]
    },
    {
     "name": "stderr",
     "output_type": "stream",
     "text": [
      "INFO:astropy:using the unit adu passed to the FITS reader instead of the unit adu in the FITS file.\n"
     ]
    },
    {
     "name": "stdout",
     "output_type": "stream",
     "text": [
      "Working on photometry of NAME Vel G in SDSS_r' ......\n",
      "INFO: using the unit adu passed to the FITS reader instead of the unit adu in the FITS file. [astropy.nddata.ccddata]\n",
      "Conversion from sky coordiantes to pixel coordinates completed!\n"
     ]
    },
    {
     "name": "stderr",
     "output_type": "stream",
     "text": [
      "INFO:astropy:using the unit adu passed to the FITS reader instead of the unit adu in the FITS file.\n"
     ]
    },
    {
     "name": "stdout",
     "output_type": "stream",
     "text": [
      " id  xcenter   ycenter  ... total_bkg aperture_sum_bkgsub  mag_inst \n",
      "       pix       pix    ...    adu            adu                   \n",
      "--- --------- --------- ... --------- ------------------- ----------\n",
      "  1 1233.2602 1307.9084 ... 105582.04           45222.059 -11.638376\n",
      "----------------------------------------------------------\n",
      "\n",
      "Working on photometry of NAME Vel G in SDSS_z' ......\n",
      "INFO: using the unit adu passed to the FITS reader instead of the unit adu in the FITS file. [astropy.nddata.ccddata]\n",
      "Conversion from sky coordiantes to pixel coordinates completed!\n"
     ]
    },
    {
     "name": "stderr",
     "output_type": "stream",
     "text": [
      "INFO:astropy:using the unit adu passed to the FITS reader instead of the unit adu in the FITS file.\n"
     ]
    },
    {
     "name": "stdout",
     "output_type": "stream",
     "text": [
      " id  xcenter   ycenter  ... total_bkg aperture_sum_bkgsub  mag_inst\n",
      "       pix       pix    ...    adu            adu                  \n",
      "--- --------- --------- ... --------- ------------------- ---------\n",
      "  1 1233.4883 1307.8344 ... 48227.601           31478.944 -11.24505\n",
      "----------------------------------------------------------\n",
      "\n",
      "Working on photometry of NAME Vel G in SDSS_g' ......\n",
      "INFO: using the unit adu passed to the FITS reader instead of the unit adu in the FITS file. [astropy.nddata.ccddata]\n",
      "Conversion from sky coordiantes to pixel coordinates completed!\n"
     ]
    },
    {
     "name": "stderr",
     "output_type": "stream",
     "text": [
      "INFO:astropy:using the unit adu passed to the FITS reader instead of the unit adu in the FITS file.\n"
     ]
    },
    {
     "name": "stdout",
     "output_type": "stream",
     "text": [
      " id  xcenter   ycenter  ... total_bkg aperture_sum_bkgsub  mag_inst \n",
      "       pix       pix    ...    adu            adu                   \n",
      "--- --------- --------- ... --------- ------------------- ----------\n",
      "  1 1233.2274 1307.9335 ...  106808.9           10985.621 -10.102062\n",
      "----------------------------------------------------------\n",
      "\n",
      "Working on photometry of NAME Vel G in SDSS_i' ......\n",
      "INFO: using the unit adu passed to the FITS reader instead of the unit adu in the FITS file. [astropy.nddata.ccddata]\n",
      "Conversion from sky coordiantes to pixel coordinates completed!\n",
      " id  xcenter  ycenter aperture_sum ... total_bkg aperture_sum_bkgsub  mag_inst \n",
      "       pix      pix       adu      ...    adu            adu                   \n",
      "--- --------- ------- ------------ ... --------- ------------------- ----------\n",
      "  1 1233.4099 1307.83    141602.45 ... 79971.566           61630.885 -11.974496\n",
      "----------------------------------------------------------\n",
      "\n"
     ]
    }
   ],
   "source": [
    "photometry.aperture_photometry(sources = sources)\n",
    "# Note that the output are the uncalibrated magnitudes.\n",
    "# The calibration can be done easily now manually by the standard stars.\n",
    "# This calibration will be handled and automated by the `standard_stars` module.\n",
    "# But at this point, the purpose of photometry provided by `photozpy` is completed and ready for more tests.\n",
    "# Other functions like plotting, cosmic ray rejection, saturation detection, automated calibration will be completed\n",
    "# as the optimization of `photozpy` in the future while analzing more data."
   ]
  },
  {
   "cell_type": "code",
   "execution_count": null,
   "id": "1a4fddbd-5005-4603-b27d-4d529b3891aa",
   "metadata": {},
   "outputs": [],
   "source": []
  }
 ],
 "metadata": {
  "kernelspec": {
   "display_name": "Python 3 (ipykernel)",
   "language": "python",
   "name": "python3"
  },
  "language_info": {
   "codemirror_mode": {
    "name": "ipython",
    "version": 3
   },
   "file_extension": ".py",
   "mimetype": "text/x-python",
   "name": "python",
   "nbconvert_exporter": "python",
   "pygments_lexer": "ipython3",
   "version": "3.9.18"
  }
 },
 "nbformat": 4,
 "nbformat_minor": 5
}
